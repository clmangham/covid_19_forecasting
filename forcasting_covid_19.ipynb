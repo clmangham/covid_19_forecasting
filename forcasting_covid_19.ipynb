{
 "cells": [
  {
   "cell_type": "markdown",
   "metadata": {},
   "source": [
    "## Forecasting COVID-19 incidence\n",
    "\n",
    "The goal is to forecasting the incidence of COVID-19 cases. Before forecasting we will begin by investigating the relationship between demographic factors and COVID-19 incidence.\n",
    "\n",
    "### Strategy\n",
    "\n",
    "  1. Inspect correlations between demographic factors and COVID-19 prevelance\n",
    "\n",
    "  2. Implement LSTM model for COVID-19 forecasting and evaluate on state and county-level data\n",
    "\n",
    "  3. Visualize the performance of model trained on county-level data"
   ]
  },
  {
   "cell_type": "code",
   "execution_count": 1,
   "metadata": {},
   "outputs": [],
   "source": [
    "import plotly.figure_factory as ff\n",
    "import numpy as np\n",
    "import pandas as pd\n",
    "import warnings\n",
    "\n",
    "warnings.filterwarnings(\"ignore\")\n",
    "from plotly.subplots import make_subplots\n",
    "import plotly.graph_objects as go\n",
    "import json\n",
    "from scipy.stats import pearsonr\n",
    "import data_cleaners as dc"
   ]
  },
  {
   "cell_type": "code",
   "execution_count": 2,
   "metadata": {},
   "outputs": [],
   "source": [
    "# Load and process US covid count data (get total counts at 3/23/22)\n",
    "def get_covid_data():\n",
    "    cub = dc.CUBData()\n",
    "    covid = cub.us_cases\n",
    "    covid[\"key\"] = [\n",
    "        \"{}_{}\".format(state, county)\n",
    "        for county, state in zip(covid[\"Admin2\"], covid[\"Province_State\"])\n",
    "    ]\n",
    "    s = covid.filter(like=\"/\")\n",
    "\n",
    "    total_counts = s.iloc[:, -1]\n",
    "    covids = covid[[\"key\", \"Province_State\"]]\n",
    "    covids[\"total_counts\"] = total_counts\n",
    "    return covids"
   ]
  },
  {
   "cell_type": "code",
   "execution_count": 3,
   "metadata": {},
   "outputs": [
    {
     "data": {
      "text/html": [
       "<div>\n",
       "<style scoped>\n",
       "    .dataframe tbody tr th:only-of-type {\n",
       "        vertical-align: middle;\n",
       "    }\n",
       "\n",
       "    .dataframe tbody tr th {\n",
       "        vertical-align: top;\n",
       "    }\n",
       "\n",
       "    .dataframe thead th {\n",
       "        text-align: right;\n",
       "    }\n",
       "</style>\n",
       "<table border=\"1\" class=\"dataframe\">\n",
       "  <thead>\n",
       "    <tr style=\"text-align: right;\">\n",
       "      <th></th>\n",
       "      <th>key</th>\n",
       "      <th>Province_State</th>\n",
       "      <th>total_counts</th>\n",
       "    </tr>\n",
       "  </thead>\n",
       "  <tbody>\n",
       "    <tr>\n",
       "      <th>0</th>\n",
       "      <td>Alabama_Autauga</td>\n",
       "      <td>Alabama</td>\n",
       "      <td>15596</td>\n",
       "    </tr>\n",
       "    <tr>\n",
       "      <th>1</th>\n",
       "      <td>Alabama_Baldwin</td>\n",
       "      <td>Alabama</td>\n",
       "      <td>55358</td>\n",
       "    </tr>\n",
       "    <tr>\n",
       "      <th>2</th>\n",
       "      <td>Alabama_Barbour</td>\n",
       "      <td>Alabama</td>\n",
       "      <td>5475</td>\n",
       "    </tr>\n",
       "    <tr>\n",
       "      <th>3</th>\n",
       "      <td>Alabama_Bibb</td>\n",
       "      <td>Alabama</td>\n",
       "      <td>6413</td>\n",
       "    </tr>\n",
       "    <tr>\n",
       "      <th>4</th>\n",
       "      <td>Alabama_Blount</td>\n",
       "      <td>Alabama</td>\n",
       "      <td>14890</td>\n",
       "    </tr>\n",
       "    <tr>\n",
       "      <th>...</th>\n",
       "      <td>...</td>\n",
       "      <td>...</td>\n",
       "      <td>...</td>\n",
       "    </tr>\n",
       "    <tr>\n",
       "      <th>3337</th>\n",
       "      <td>Wyoming_Teton</td>\n",
       "      <td>Wyoming</td>\n",
       "      <td>9887</td>\n",
       "    </tr>\n",
       "    <tr>\n",
       "      <th>3338</th>\n",
       "      <td>Wyoming_Uinta</td>\n",
       "      <td>Wyoming</td>\n",
       "      <td>5633</td>\n",
       "    </tr>\n",
       "    <tr>\n",
       "      <th>3339</th>\n",
       "      <td>Wyoming_Unassigned</td>\n",
       "      <td>Wyoming</td>\n",
       "      <td>0</td>\n",
       "    </tr>\n",
       "    <tr>\n",
       "      <th>3340</th>\n",
       "      <td>Wyoming_Washakie</td>\n",
       "      <td>Wyoming</td>\n",
       "      <td>2349</td>\n",
       "    </tr>\n",
       "    <tr>\n",
       "      <th>3341</th>\n",
       "      <td>Wyoming_Weston</td>\n",
       "      <td>Wyoming</td>\n",
       "      <td>1583</td>\n",
       "    </tr>\n",
       "  </tbody>\n",
       "</table>\n",
       "<p>3342 rows × 3 columns</p>\n",
       "</div>"
      ],
      "text/plain": [
       "                     key Province_State  total_counts\n",
       "0        Alabama_Autauga        Alabama         15596\n",
       "1        Alabama_Baldwin        Alabama         55358\n",
       "2        Alabama_Barbour        Alabama          5475\n",
       "3           Alabama_Bibb        Alabama          6413\n",
       "4         Alabama_Blount        Alabama         14890\n",
       "...                  ...            ...           ...\n",
       "3337       Wyoming_Teton        Wyoming          9887\n",
       "3338       Wyoming_Uinta        Wyoming          5633\n",
       "3339  Wyoming_Unassigned        Wyoming             0\n",
       "3340    Wyoming_Washakie        Wyoming          2349\n",
       "3341      Wyoming_Weston        Wyoming          1583\n",
       "\n",
       "[3342 rows x 3 columns]"
      ]
     },
     "execution_count": 3,
     "metadata": {},
     "output_type": "execute_result"
    }
   ],
   "source": [
    "covids = get_covid_data()\n",
    "covids"
   ]
  },
  {
   "cell_type": "code",
   "execution_count": 4,
   "metadata": {},
   "outputs": [
    {
     "data": {
      "text/html": [
       "<div>\n",
       "<style scoped>\n",
       "    .dataframe tbody tr th:only-of-type {\n",
       "        vertical-align: middle;\n",
       "    }\n",
       "\n",
       "    .dataframe tbody tr th {\n",
       "        vertical-align: top;\n",
       "    }\n",
       "\n",
       "    .dataframe thead th {\n",
       "        text-align: right;\n",
       "    }\n",
       "</style>\n",
       "<table border=\"1\" class=\"dataframe\">\n",
       "  <thead>\n",
       "    <tr style=\"text-align: right;\">\n",
       "      <th></th>\n",
       "      <th>s_county</th>\n",
       "      <th>combined_key</th>\n",
       "      <th>fips</th>\n",
       "      <th>population</th>\n",
       "      <th>white_pct</th>\n",
       "      <th>black_pct</th>\n",
       "      <th>hispanic_pct</th>\n",
       "      <th>nonwhite_pct</th>\n",
       "      <th>foreignborn_pct</th>\n",
       "      <th>female_pct</th>\n",
       "      <th>...</th>\n",
       "      <th>adult_smoking</th>\n",
       "      <th>adult_obesity</th>\n",
       "      <th>percent_uninsured</th>\n",
       "      <th>social_association_rate</th>\n",
       "      <th>air_quality_avg_pm</th>\n",
       "      <th>percent_diabetic</th>\n",
       "      <th>percent_insufficient_sleep</th>\n",
       "      <th>percent_uninsured_adults</th>\n",
       "      <th>percent_uninsured_children</th>\n",
       "      <th>icubeds</th>\n",
       "    </tr>\n",
       "  </thead>\n",
       "  <tbody>\n",
       "    <tr>\n",
       "      <th>0</th>\n",
       "      <td>Alabama_Autauga</td>\n",
       "      <td>Autauga, Alabama, US</td>\n",
       "      <td>1001</td>\n",
       "      <td>55869</td>\n",
       "      <td>75.683479</td>\n",
       "      <td>18.370907</td>\n",
       "      <td>2.572254</td>\n",
       "      <td>24.316519</td>\n",
       "      <td>1.838362</td>\n",
       "      <td>51.176224</td>\n",
       "      <td>...</td>\n",
       "      <td>19.124659</td>\n",
       "      <td>37.500000</td>\n",
       "      <td>8.500966</td>\n",
       "      <td>12.631731</td>\n",
       "      <td>11.7</td>\n",
       "      <td>14.2</td>\n",
       "      <td>35.905407</td>\n",
       "      <td>10.961103</td>\n",
       "      <td>2.476191</td>\n",
       "      <td>6</td>\n",
       "    </tr>\n",
       "    <tr>\n",
       "      <th>1</th>\n",
       "      <td>Alabama_Baldwin</td>\n",
       "      <td>Baldwin, Alabama, US</td>\n",
       "      <td>1003</td>\n",
       "      <td>223234</td>\n",
       "      <td>83.178787</td>\n",
       "      <td>9.225603</td>\n",
       "      <td>4.366698</td>\n",
       "      <td>16.821213</td>\n",
       "      <td>3.269510</td>\n",
       "      <td>51.194927</td>\n",
       "      <td>...</td>\n",
       "      <td>16.795485</td>\n",
       "      <td>31.000000</td>\n",
       "      <td>10.699288</td>\n",
       "      <td>10.692213</td>\n",
       "      <td>10.3</td>\n",
       "      <td>11.3</td>\n",
       "      <td>33.305866</td>\n",
       "      <td>13.570311</td>\n",
       "      <td>3.238027</td>\n",
       "      <td>51</td>\n",
       "    </tr>\n",
       "    <tr>\n",
       "      <th>2</th>\n",
       "      <td>Alabama_Barbour</td>\n",
       "      <td>Barbour, Alabama, US</td>\n",
       "      <td>1005</td>\n",
       "      <td>24686</td>\n",
       "      <td>45.885624</td>\n",
       "      <td>47.888329</td>\n",
       "      <td>4.309762</td>\n",
       "      <td>54.114376</td>\n",
       "      <td>2.859397</td>\n",
       "      <td>46.498085</td>\n",
       "      <td>...</td>\n",
       "      <td>21.540878</td>\n",
       "      <td>44.299999</td>\n",
       "      <td>12.513197</td>\n",
       "      <td>8.472944</td>\n",
       "      <td>11.5</td>\n",
       "      <td>18.0</td>\n",
       "      <td>38.563168</td>\n",
       "      <td>16.542240</td>\n",
       "      <td>2.901424</td>\n",
       "      <td>5</td>\n",
       "    </tr>\n",
       "    <tr>\n",
       "      <th>3</th>\n",
       "      <td>Alabama_Bibb</td>\n",
       "      <td>Bibb, Alabama, US</td>\n",
       "      <td>1007</td>\n",
       "      <td>22394</td>\n",
       "      <td>74.765198</td>\n",
       "      <td>21.212122</td>\n",
       "      <td>2.223994</td>\n",
       "      <td>25.234804</td>\n",
       "      <td>1.351232</td>\n",
       "      <td>46.464645</td>\n",
       "      <td>...</td>\n",
       "      <td>19.916405</td>\n",
       "      <td>37.799999</td>\n",
       "      <td>9.680076</td>\n",
       "      <td>10.157664</td>\n",
       "      <td>11.2</td>\n",
       "      <td>14.9</td>\n",
       "      <td>38.148865</td>\n",
       "      <td>12.297319</td>\n",
       "      <td>2.619447</td>\n",
       "      <td>0</td>\n",
       "    </tr>\n",
       "    <tr>\n",
       "      <th>4</th>\n",
       "      <td>Alabama_Blount</td>\n",
       "      <td>Blount, Alabama, US</td>\n",
       "      <td>1009</td>\n",
       "      <td>57826</td>\n",
       "      <td>87.657700</td>\n",
       "      <td>1.557951</td>\n",
       "      <td>8.727298</td>\n",
       "      <td>12.342299</td>\n",
       "      <td>4.271801</td>\n",
       "      <td>50.485233</td>\n",
       "      <td>...</td>\n",
       "      <td>19.652159</td>\n",
       "      <td>34.400002</td>\n",
       "      <td>12.114004</td>\n",
       "      <td>9.011507</td>\n",
       "      <td>11.7</td>\n",
       "      <td>14.3</td>\n",
       "      <td>35.945011</td>\n",
       "      <td>15.564604</td>\n",
       "      <td>3.430136</td>\n",
       "      <td>6</td>\n",
       "    </tr>\n",
       "    <tr>\n",
       "      <th>...</th>\n",
       "      <td>...</td>\n",
       "      <td>...</td>\n",
       "      <td>...</td>\n",
       "      <td>...</td>\n",
       "      <td>...</td>\n",
       "      <td>...</td>\n",
       "      <td>...</td>\n",
       "      <td>...</td>\n",
       "      <td>...</td>\n",
       "      <td>...</td>\n",
       "      <td>...</td>\n",
       "      <td>...</td>\n",
       "      <td>...</td>\n",
       "      <td>...</td>\n",
       "      <td>...</td>\n",
       "      <td>...</td>\n",
       "      <td>...</td>\n",
       "      <td>...</td>\n",
       "      <td>...</td>\n",
       "      <td>...</td>\n",
       "      <td>...</td>\n",
       "    </tr>\n",
       "    <tr>\n",
       "      <th>2776</th>\n",
       "      <td>Wyoming_Sublette</td>\n",
       "      <td>Sublette, Wyoming, US</td>\n",
       "      <td>56035</td>\n",
       "      <td>9831</td>\n",
       "      <td>91.646729</td>\n",
       "      <td>0.000000</td>\n",
       "      <td>7.814992</td>\n",
       "      <td>8.353270</td>\n",
       "      <td>2.053429</td>\n",
       "      <td>46.949760</td>\n",
       "      <td>...</td>\n",
       "      <td>14.415014</td>\n",
       "      <td>25.799999</td>\n",
       "      <td>13.645039</td>\n",
       "      <td>8.189170</td>\n",
       "      <td>5.1</td>\n",
       "      <td>7.9</td>\n",
       "      <td>29.000738</td>\n",
       "      <td>14.785214</td>\n",
       "      <td>10.971660</td>\n",
       "      <td>0</td>\n",
       "    </tr>\n",
       "    <tr>\n",
       "      <th>2777</th>\n",
       "      <td>Wyoming_Sweetwater</td>\n",
       "      <td>Sweetwater, Wyoming, US</td>\n",
       "      <td>56037</td>\n",
       "      <td>42343</td>\n",
       "      <td>79.815674</td>\n",
       "      <td>0.865839</td>\n",
       "      <td>15.859591</td>\n",
       "      <td>20.184326</td>\n",
       "      <td>5.509685</td>\n",
       "      <td>47.824242</td>\n",
       "      <td>...</td>\n",
       "      <td>17.566944</td>\n",
       "      <td>30.200001</td>\n",
       "      <td>12.750853</td>\n",
       "      <td>9.962640</td>\n",
       "      <td>5.1</td>\n",
       "      <td>8.4</td>\n",
       "      <td>31.170904</td>\n",
       "      <td>15.270087</td>\n",
       "      <td>7.153332</td>\n",
       "      <td>10</td>\n",
       "    </tr>\n",
       "    <tr>\n",
       "      <th>2778</th>\n",
       "      <td>Wyoming_Teton</td>\n",
       "      <td>Teton, Wyoming, US</td>\n",
       "      <td>56039</td>\n",
       "      <td>23464</td>\n",
       "      <td>81.200546</td>\n",
       "      <td>0.614419</td>\n",
       "      <td>15.174822</td>\n",
       "      <td>18.799452</td>\n",
       "      <td>11.475047</td>\n",
       "      <td>48.097069</td>\n",
       "      <td>...</td>\n",
       "      <td>14.137266</td>\n",
       "      <td>13.600000</td>\n",
       "      <td>14.979313</td>\n",
       "      <td>18.110474</td>\n",
       "      <td>4.9</td>\n",
       "      <td>4.2</td>\n",
       "      <td>26.551743</td>\n",
       "      <td>16.043394</td>\n",
       "      <td>11.421708</td>\n",
       "      <td>6</td>\n",
       "    </tr>\n",
       "    <tr>\n",
       "      <th>2779</th>\n",
       "      <td>Wyoming_Uinta</td>\n",
       "      <td>Uinta, Wyoming, US</td>\n",
       "      <td>56041</td>\n",
       "      <td>20226</td>\n",
       "      <td>87.718376</td>\n",
       "      <td>0.186665</td>\n",
       "      <td>8.959939</td>\n",
       "      <td>12.281626</td>\n",
       "      <td>3.986981</td>\n",
       "      <td>49.327526</td>\n",
       "      <td>...</td>\n",
       "      <td>18.180586</td>\n",
       "      <td>31.799999</td>\n",
       "      <td>12.568976</td>\n",
       "      <td>5.295335</td>\n",
       "      <td>5.9</td>\n",
       "      <td>9.3</td>\n",
       "      <td>31.090485</td>\n",
       "      <td>15.073191</td>\n",
       "      <td>7.786820</td>\n",
       "      <td>6</td>\n",
       "    </tr>\n",
       "    <tr>\n",
       "      <th>2780</th>\n",
       "      <td>Wyoming_Washakie</td>\n",
       "      <td>Washakie, Wyoming, US</td>\n",
       "      <td>56043</td>\n",
       "      <td>7805</td>\n",
       "      <td>82.397316</td>\n",
       "      <td>0.790325</td>\n",
       "      <td>13.962399</td>\n",
       "      <td>17.602682</td>\n",
       "      <td>3.783978</td>\n",
       "      <td>51.359119</td>\n",
       "      <td>...</td>\n",
       "      <td>15.607573</td>\n",
       "      <td>29.700001</td>\n",
       "      <td>16.708229</td>\n",
       "      <td>19.429266</td>\n",
       "      <td>4.8</td>\n",
       "      <td>10.9</td>\n",
       "      <td>28.472485</td>\n",
       "      <td>19.590128</td>\n",
       "      <td>9.994927</td>\n",
       "      <td>0</td>\n",
       "    </tr>\n",
       "  </tbody>\n",
       "</table>\n",
       "<p>2781 rows × 31 columns</p>\n",
       "</div>"
      ],
      "text/plain": [
       "                s_county             combined_key   fips  population  \\\n",
       "0        Alabama_Autauga     Autauga, Alabama, US   1001       55869   \n",
       "1        Alabama_Baldwin     Baldwin, Alabama, US   1003      223234   \n",
       "2        Alabama_Barbour     Barbour, Alabama, US   1005       24686   \n",
       "3           Alabama_Bibb        Bibb, Alabama, US   1007       22394   \n",
       "4         Alabama_Blount      Blount, Alabama, US   1009       57826   \n",
       "...                  ...                      ...    ...         ...   \n",
       "2776    Wyoming_Sublette    Sublette, Wyoming, US  56035        9831   \n",
       "2777  Wyoming_Sweetwater  Sweetwater, Wyoming, US  56037       42343   \n",
       "2778       Wyoming_Teton       Teton, Wyoming, US  56039       23464   \n",
       "2779       Wyoming_Uinta       Uinta, Wyoming, US  56041       20226   \n",
       "2780    Wyoming_Washakie    Washakie, Wyoming, US  56043        7805   \n",
       "\n",
       "      white_pct  black_pct  hispanic_pct  nonwhite_pct  foreignborn_pct  \\\n",
       "0     75.683479  18.370907      2.572254     24.316519         1.838362   \n",
       "1     83.178787   9.225603      4.366698     16.821213         3.269510   \n",
       "2     45.885624  47.888329      4.309762     54.114376         2.859397   \n",
       "3     74.765198  21.212122      2.223994     25.234804         1.351232   \n",
       "4     87.657700   1.557951      8.727298     12.342299         4.271801   \n",
       "...         ...        ...           ...           ...              ...   \n",
       "2776  91.646729   0.000000      7.814992      8.353270         2.053429   \n",
       "2777  79.815674   0.865839     15.859591     20.184326         5.509685   \n",
       "2778  81.200546   0.614419     15.174822     18.799452        11.475047   \n",
       "2779  87.718376   0.186665      8.959939     12.281626         3.986981   \n",
       "2780  82.397316   0.790325     13.962399     17.602682         3.783978   \n",
       "\n",
       "      female_pct  ...  adult_smoking  adult_obesity  percent_uninsured  \\\n",
       "0      51.176224  ...      19.124659      37.500000           8.500966   \n",
       "1      51.194927  ...      16.795485      31.000000          10.699288   \n",
       "2      46.498085  ...      21.540878      44.299999          12.513197   \n",
       "3      46.464645  ...      19.916405      37.799999           9.680076   \n",
       "4      50.485233  ...      19.652159      34.400002          12.114004   \n",
       "...          ...  ...            ...            ...                ...   \n",
       "2776   46.949760  ...      14.415014      25.799999          13.645039   \n",
       "2777   47.824242  ...      17.566944      30.200001          12.750853   \n",
       "2778   48.097069  ...      14.137266      13.600000          14.979313   \n",
       "2779   49.327526  ...      18.180586      31.799999          12.568976   \n",
       "2780   51.359119  ...      15.607573      29.700001          16.708229   \n",
       "\n",
       "      social_association_rate  air_quality_avg_pm  percent_diabetic  \\\n",
       "0                   12.631731                11.7              14.2   \n",
       "1                   10.692213                10.3              11.3   \n",
       "2                    8.472944                11.5              18.0   \n",
       "3                   10.157664                11.2              14.9   \n",
       "4                    9.011507                11.7              14.3   \n",
       "...                       ...                 ...               ...   \n",
       "2776                 8.189170                 5.1               7.9   \n",
       "2777                 9.962640                 5.1               8.4   \n",
       "2778                18.110474                 4.9               4.2   \n",
       "2779                 5.295335                 5.9               9.3   \n",
       "2780                19.429266                 4.8              10.9   \n",
       "\n",
       "      percent_insufficient_sleep  percent_uninsured_adults  \\\n",
       "0                      35.905407                 10.961103   \n",
       "1                      33.305866                 13.570311   \n",
       "2                      38.563168                 16.542240   \n",
       "3                      38.148865                 12.297319   \n",
       "4                      35.945011                 15.564604   \n",
       "...                          ...                       ...   \n",
       "2776                   29.000738                 14.785214   \n",
       "2777                   31.170904                 15.270087   \n",
       "2778                   26.551743                 16.043394   \n",
       "2779                   31.090485                 15.073191   \n",
       "2780                   28.472485                 19.590128   \n",
       "\n",
       "      percent_uninsured_children  icubeds  \n",
       "0                       2.476191        6  \n",
       "1                       3.238027       51  \n",
       "2                       2.901424        5  \n",
       "3                       2.619447        0  \n",
       "4                       3.430136        6  \n",
       "...                          ...      ...  \n",
       "2776                   10.971660        0  \n",
       "2777                    7.153332       10  \n",
       "2778                   11.421708        6  \n",
       "2779                    7.786820        6  \n",
       "2780                    9.994927        0  \n",
       "\n",
       "[2781 rows x 31 columns]"
      ]
     },
     "execution_count": 4,
     "metadata": {},
     "output_type": "execute_result"
    }
   ],
   "source": [
    "# Get country level data by state\n",
    "counties = pd.read_csv(\"assets/County_Demo_1012.csv\")\n",
    "counties"
   ]
  },
  {
   "cell_type": "code",
   "execution_count": 5,
   "metadata": {},
   "outputs": [
    {
     "data": {
      "text/html": [
       "<div>\n",
       "<style scoped>\n",
       "    .dataframe tbody tr th:only-of-type {\n",
       "        vertical-align: middle;\n",
       "    }\n",
       "\n",
       "    .dataframe tbody tr th {\n",
       "        vertical-align: top;\n",
       "    }\n",
       "\n",
       "    .dataframe thead th {\n",
       "        text-align: right;\n",
       "    }\n",
       "</style>\n",
       "<table border=\"1\" class=\"dataframe\">\n",
       "  <thead>\n",
       "    <tr style=\"text-align: right;\">\n",
       "      <th></th>\n",
       "      <th>key</th>\n",
       "      <th>Province_State</th>\n",
       "      <th>total_counts</th>\n",
       "      <th>s_county</th>\n",
       "      <th>combined_key</th>\n",
       "      <th>fips</th>\n",
       "      <th>population</th>\n",
       "      <th>white_pct</th>\n",
       "      <th>black_pct</th>\n",
       "      <th>hispanic_pct</th>\n",
       "      <th>...</th>\n",
       "      <th>adult_smoking</th>\n",
       "      <th>adult_obesity</th>\n",
       "      <th>percent_uninsured</th>\n",
       "      <th>social_association_rate</th>\n",
       "      <th>air_quality_avg_pm</th>\n",
       "      <th>percent_diabetic</th>\n",
       "      <th>percent_insufficient_sleep</th>\n",
       "      <th>percent_uninsured_adults</th>\n",
       "      <th>percent_uninsured_children</th>\n",
       "      <th>icubeds</th>\n",
       "    </tr>\n",
       "  </thead>\n",
       "  <tbody>\n",
       "    <tr>\n",
       "      <th>0</th>\n",
       "      <td>Alabama_Autauga</td>\n",
       "      <td>Alabama</td>\n",
       "      <td>15596</td>\n",
       "      <td>Alabama_Autauga</td>\n",
       "      <td>Autauga, Alabama, US</td>\n",
       "      <td>1001</td>\n",
       "      <td>55869</td>\n",
       "      <td>75.683479</td>\n",
       "      <td>18.370907</td>\n",
       "      <td>2.572254</td>\n",
       "      <td>...</td>\n",
       "      <td>19.124659</td>\n",
       "      <td>37.500000</td>\n",
       "      <td>8.500966</td>\n",
       "      <td>12.631731</td>\n",
       "      <td>11.7</td>\n",
       "      <td>14.2</td>\n",
       "      <td>35.905407</td>\n",
       "      <td>10.961103</td>\n",
       "      <td>2.476191</td>\n",
       "      <td>6</td>\n",
       "    </tr>\n",
       "    <tr>\n",
       "      <th>1</th>\n",
       "      <td>Alabama_Baldwin</td>\n",
       "      <td>Alabama</td>\n",
       "      <td>55358</td>\n",
       "      <td>Alabama_Baldwin</td>\n",
       "      <td>Baldwin, Alabama, US</td>\n",
       "      <td>1003</td>\n",
       "      <td>223234</td>\n",
       "      <td>83.178787</td>\n",
       "      <td>9.225603</td>\n",
       "      <td>4.366698</td>\n",
       "      <td>...</td>\n",
       "      <td>16.795485</td>\n",
       "      <td>31.000000</td>\n",
       "      <td>10.699288</td>\n",
       "      <td>10.692213</td>\n",
       "      <td>10.3</td>\n",
       "      <td>11.3</td>\n",
       "      <td>33.305866</td>\n",
       "      <td>13.570311</td>\n",
       "      <td>3.238027</td>\n",
       "      <td>51</td>\n",
       "    </tr>\n",
       "    <tr>\n",
       "      <th>2</th>\n",
       "      <td>Alabama_Barbour</td>\n",
       "      <td>Alabama</td>\n",
       "      <td>5475</td>\n",
       "      <td>Alabama_Barbour</td>\n",
       "      <td>Barbour, Alabama, US</td>\n",
       "      <td>1005</td>\n",
       "      <td>24686</td>\n",
       "      <td>45.885624</td>\n",
       "      <td>47.888329</td>\n",
       "      <td>4.309762</td>\n",
       "      <td>...</td>\n",
       "      <td>21.540878</td>\n",
       "      <td>44.299999</td>\n",
       "      <td>12.513197</td>\n",
       "      <td>8.472944</td>\n",
       "      <td>11.5</td>\n",
       "      <td>18.0</td>\n",
       "      <td>38.563168</td>\n",
       "      <td>16.542240</td>\n",
       "      <td>2.901424</td>\n",
       "      <td>5</td>\n",
       "    </tr>\n",
       "    <tr>\n",
       "      <th>3</th>\n",
       "      <td>Alabama_Bibb</td>\n",
       "      <td>Alabama</td>\n",
       "      <td>6413</td>\n",
       "      <td>Alabama_Bibb</td>\n",
       "      <td>Bibb, Alabama, US</td>\n",
       "      <td>1007</td>\n",
       "      <td>22394</td>\n",
       "      <td>74.765198</td>\n",
       "      <td>21.212122</td>\n",
       "      <td>2.223994</td>\n",
       "      <td>...</td>\n",
       "      <td>19.916405</td>\n",
       "      <td>37.799999</td>\n",
       "      <td>9.680076</td>\n",
       "      <td>10.157664</td>\n",
       "      <td>11.2</td>\n",
       "      <td>14.9</td>\n",
       "      <td>38.148865</td>\n",
       "      <td>12.297319</td>\n",
       "      <td>2.619447</td>\n",
       "      <td>0</td>\n",
       "    </tr>\n",
       "    <tr>\n",
       "      <th>4</th>\n",
       "      <td>Alabama_Blount</td>\n",
       "      <td>Alabama</td>\n",
       "      <td>14890</td>\n",
       "      <td>Alabama_Blount</td>\n",
       "      <td>Blount, Alabama, US</td>\n",
       "      <td>1009</td>\n",
       "      <td>57826</td>\n",
       "      <td>87.657700</td>\n",
       "      <td>1.557951</td>\n",
       "      <td>8.727298</td>\n",
       "      <td>...</td>\n",
       "      <td>19.652159</td>\n",
       "      <td>34.400002</td>\n",
       "      <td>12.114004</td>\n",
       "      <td>9.011507</td>\n",
       "      <td>11.7</td>\n",
       "      <td>14.3</td>\n",
       "      <td>35.945011</td>\n",
       "      <td>15.564604</td>\n",
       "      <td>3.430136</td>\n",
       "      <td>6</td>\n",
       "    </tr>\n",
       "    <tr>\n",
       "      <th>...</th>\n",
       "      <td>...</td>\n",
       "      <td>...</td>\n",
       "      <td>...</td>\n",
       "      <td>...</td>\n",
       "      <td>...</td>\n",
       "      <td>...</td>\n",
       "      <td>...</td>\n",
       "      <td>...</td>\n",
       "      <td>...</td>\n",
       "      <td>...</td>\n",
       "      <td>...</td>\n",
       "      <td>...</td>\n",
       "      <td>...</td>\n",
       "      <td>...</td>\n",
       "      <td>...</td>\n",
       "      <td>...</td>\n",
       "      <td>...</td>\n",
       "      <td>...</td>\n",
       "      <td>...</td>\n",
       "      <td>...</td>\n",
       "      <td>...</td>\n",
       "    </tr>\n",
       "    <tr>\n",
       "      <th>2729</th>\n",
       "      <td>Wyoming_Sublette</td>\n",
       "      <td>Wyoming</td>\n",
       "      <td>1924</td>\n",
       "      <td>Wyoming_Sublette</td>\n",
       "      <td>Sublette, Wyoming, US</td>\n",
       "      <td>56035</td>\n",
       "      <td>9831</td>\n",
       "      <td>91.646729</td>\n",
       "      <td>0.000000</td>\n",
       "      <td>7.814992</td>\n",
       "      <td>...</td>\n",
       "      <td>14.415014</td>\n",
       "      <td>25.799999</td>\n",
       "      <td>13.645039</td>\n",
       "      <td>8.189170</td>\n",
       "      <td>5.1</td>\n",
       "      <td>7.9</td>\n",
       "      <td>29.000738</td>\n",
       "      <td>14.785214</td>\n",
       "      <td>10.971660</td>\n",
       "      <td>0</td>\n",
       "    </tr>\n",
       "    <tr>\n",
       "      <th>2730</th>\n",
       "      <td>Wyoming_Sweetwater</td>\n",
       "      <td>Wyoming</td>\n",
       "      <td>11045</td>\n",
       "      <td>Wyoming_Sweetwater</td>\n",
       "      <td>Sweetwater, Wyoming, US</td>\n",
       "      <td>56037</td>\n",
       "      <td>42343</td>\n",
       "      <td>79.815674</td>\n",
       "      <td>0.865839</td>\n",
       "      <td>15.859591</td>\n",
       "      <td>...</td>\n",
       "      <td>17.566944</td>\n",
       "      <td>30.200001</td>\n",
       "      <td>12.750853</td>\n",
       "      <td>9.962640</td>\n",
       "      <td>5.1</td>\n",
       "      <td>8.4</td>\n",
       "      <td>31.170904</td>\n",
       "      <td>15.270087</td>\n",
       "      <td>7.153332</td>\n",
       "      <td>10</td>\n",
       "    </tr>\n",
       "    <tr>\n",
       "      <th>2731</th>\n",
       "      <td>Wyoming_Teton</td>\n",
       "      <td>Wyoming</td>\n",
       "      <td>9887</td>\n",
       "      <td>Wyoming_Teton</td>\n",
       "      <td>Teton, Wyoming, US</td>\n",
       "      <td>56039</td>\n",
       "      <td>23464</td>\n",
       "      <td>81.200546</td>\n",
       "      <td>0.614419</td>\n",
       "      <td>15.174822</td>\n",
       "      <td>...</td>\n",
       "      <td>14.137266</td>\n",
       "      <td>13.600000</td>\n",
       "      <td>14.979313</td>\n",
       "      <td>18.110474</td>\n",
       "      <td>4.9</td>\n",
       "      <td>4.2</td>\n",
       "      <td>26.551743</td>\n",
       "      <td>16.043394</td>\n",
       "      <td>11.421708</td>\n",
       "      <td>6</td>\n",
       "    </tr>\n",
       "    <tr>\n",
       "      <th>2732</th>\n",
       "      <td>Wyoming_Uinta</td>\n",
       "      <td>Wyoming</td>\n",
       "      <td>5633</td>\n",
       "      <td>Wyoming_Uinta</td>\n",
       "      <td>Uinta, Wyoming, US</td>\n",
       "      <td>56041</td>\n",
       "      <td>20226</td>\n",
       "      <td>87.718376</td>\n",
       "      <td>0.186665</td>\n",
       "      <td>8.959939</td>\n",
       "      <td>...</td>\n",
       "      <td>18.180586</td>\n",
       "      <td>31.799999</td>\n",
       "      <td>12.568976</td>\n",
       "      <td>5.295335</td>\n",
       "      <td>5.9</td>\n",
       "      <td>9.3</td>\n",
       "      <td>31.090485</td>\n",
       "      <td>15.073191</td>\n",
       "      <td>7.786820</td>\n",
       "      <td>6</td>\n",
       "    </tr>\n",
       "    <tr>\n",
       "      <th>2733</th>\n",
       "      <td>Wyoming_Washakie</td>\n",
       "      <td>Wyoming</td>\n",
       "      <td>2349</td>\n",
       "      <td>Wyoming_Washakie</td>\n",
       "      <td>Washakie, Wyoming, US</td>\n",
       "      <td>56043</td>\n",
       "      <td>7805</td>\n",
       "      <td>82.397316</td>\n",
       "      <td>0.790325</td>\n",
       "      <td>13.962399</td>\n",
       "      <td>...</td>\n",
       "      <td>15.607573</td>\n",
       "      <td>29.700001</td>\n",
       "      <td>16.708229</td>\n",
       "      <td>19.429266</td>\n",
       "      <td>4.8</td>\n",
       "      <td>10.9</td>\n",
       "      <td>28.472485</td>\n",
       "      <td>19.590128</td>\n",
       "      <td>9.994927</td>\n",
       "      <td>0</td>\n",
       "    </tr>\n",
       "  </tbody>\n",
       "</table>\n",
       "<p>2734 rows × 34 columns</p>\n",
       "</div>"
      ],
      "text/plain": [
       "                     key Province_State  total_counts            s_county  \\\n",
       "0        Alabama_Autauga        Alabama         15596     Alabama_Autauga   \n",
       "1        Alabama_Baldwin        Alabama         55358     Alabama_Baldwin   \n",
       "2        Alabama_Barbour        Alabama          5475     Alabama_Barbour   \n",
       "3           Alabama_Bibb        Alabama          6413        Alabama_Bibb   \n",
       "4         Alabama_Blount        Alabama         14890      Alabama_Blount   \n",
       "...                  ...            ...           ...                 ...   \n",
       "2729    Wyoming_Sublette        Wyoming          1924    Wyoming_Sublette   \n",
       "2730  Wyoming_Sweetwater        Wyoming         11045  Wyoming_Sweetwater   \n",
       "2731       Wyoming_Teton        Wyoming          9887       Wyoming_Teton   \n",
       "2732       Wyoming_Uinta        Wyoming          5633       Wyoming_Uinta   \n",
       "2733    Wyoming_Washakie        Wyoming          2349    Wyoming_Washakie   \n",
       "\n",
       "                 combined_key   fips  population  white_pct  black_pct  \\\n",
       "0        Autauga, Alabama, US   1001       55869  75.683479  18.370907   \n",
       "1        Baldwin, Alabama, US   1003      223234  83.178787   9.225603   \n",
       "2        Barbour, Alabama, US   1005       24686  45.885624  47.888329   \n",
       "3           Bibb, Alabama, US   1007       22394  74.765198  21.212122   \n",
       "4         Blount, Alabama, US   1009       57826  87.657700   1.557951   \n",
       "...                       ...    ...         ...        ...        ...   \n",
       "2729    Sublette, Wyoming, US  56035        9831  91.646729   0.000000   \n",
       "2730  Sweetwater, Wyoming, US  56037       42343  79.815674   0.865839   \n",
       "2731       Teton, Wyoming, US  56039       23464  81.200546   0.614419   \n",
       "2732       Uinta, Wyoming, US  56041       20226  87.718376   0.186665   \n",
       "2733    Washakie, Wyoming, US  56043        7805  82.397316   0.790325   \n",
       "\n",
       "      hispanic_pct  ...  adult_smoking  adult_obesity  percent_uninsured  \\\n",
       "0         2.572254  ...      19.124659      37.500000           8.500966   \n",
       "1         4.366698  ...      16.795485      31.000000          10.699288   \n",
       "2         4.309762  ...      21.540878      44.299999          12.513197   \n",
       "3         2.223994  ...      19.916405      37.799999           9.680076   \n",
       "4         8.727298  ...      19.652159      34.400002          12.114004   \n",
       "...            ...  ...            ...            ...                ...   \n",
       "2729      7.814992  ...      14.415014      25.799999          13.645039   \n",
       "2730     15.859591  ...      17.566944      30.200001          12.750853   \n",
       "2731     15.174822  ...      14.137266      13.600000          14.979313   \n",
       "2732      8.959939  ...      18.180586      31.799999          12.568976   \n",
       "2733     13.962399  ...      15.607573      29.700001          16.708229   \n",
       "\n",
       "      social_association_rate  air_quality_avg_pm  percent_diabetic  \\\n",
       "0                   12.631731                11.7              14.2   \n",
       "1                   10.692213                10.3              11.3   \n",
       "2                    8.472944                11.5              18.0   \n",
       "3                   10.157664                11.2              14.9   \n",
       "4                    9.011507                11.7              14.3   \n",
       "...                       ...                 ...               ...   \n",
       "2729                 8.189170                 5.1               7.9   \n",
       "2730                 9.962640                 5.1               8.4   \n",
       "2731                18.110474                 4.9               4.2   \n",
       "2732                 5.295335                 5.9               9.3   \n",
       "2733                19.429266                 4.8              10.9   \n",
       "\n",
       "      percent_insufficient_sleep  percent_uninsured_adults  \\\n",
       "0                      35.905407                 10.961103   \n",
       "1                      33.305866                 13.570311   \n",
       "2                      38.563168                 16.542240   \n",
       "3                      38.148865                 12.297319   \n",
       "4                      35.945011                 15.564604   \n",
       "...                          ...                       ...   \n",
       "2729                   29.000738                 14.785214   \n",
       "2730                   31.170904                 15.270087   \n",
       "2731                   26.551743                 16.043394   \n",
       "2732                   31.090485                 15.073191   \n",
       "2733                   28.472485                 19.590128   \n",
       "\n",
       "      percent_uninsured_children  icubeds  \n",
       "0                       2.476191        6  \n",
       "1                       3.238027       51  \n",
       "2                       2.901424        5  \n",
       "3                       2.619447        0  \n",
       "4                       3.430136        6  \n",
       "...                          ...      ...  \n",
       "2729                   10.971660        0  \n",
       "2730                    7.153332       10  \n",
       "2731                   11.421708        6  \n",
       "2732                    7.786820        6  \n",
       "2733                    9.994927        0  \n",
       "\n",
       "[2734 rows x 34 columns]"
      ]
     },
     "execution_count": 5,
     "metadata": {},
     "output_type": "execute_result"
    }
   ],
   "source": [
    "# Merge data\n",
    "merged_covid = covids.merge(counties, left_on=\"key\", right_on=\"s_county\")\n",
    "merged_covid"
   ]
  },
  {
   "cell_type": "markdown",
   "metadata": {},
   "source": [
    "## Factors that correleate with COVID-19\n",
    "\n",
    "Now we will look at how various factors in the county dataset are correlated the proportion of the population with COVID-19 over time."
   ]
  },
  {
   "cell_type": "code",
   "execution_count": 6,
   "metadata": {},
   "outputs": [
    {
     "data": {
      "text/html": [
       "<div>\n",
       "<style scoped>\n",
       "    .dataframe tbody tr th:only-of-type {\n",
       "        vertical-align: middle;\n",
       "    }\n",
       "\n",
       "    .dataframe tbody tr th {\n",
       "        vertical-align: top;\n",
       "    }\n",
       "\n",
       "    .dataframe thead th {\n",
       "        text-align: right;\n",
       "    }\n",
       "</style>\n",
       "<table border=\"1\" class=\"dataframe\">\n",
       "  <thead>\n",
       "    <tr style=\"text-align: right;\">\n",
       "      <th></th>\n",
       "      <th>combined_key</th>\n",
       "      <th>percent_covid</th>\n",
       "    </tr>\n",
       "  </thead>\n",
       "  <tbody>\n",
       "    <tr>\n",
       "      <th>0</th>\n",
       "      <td>Autauga, Alabama, US</td>\n",
       "      <td>27.92</td>\n",
       "    </tr>\n",
       "    <tr>\n",
       "      <th>1</th>\n",
       "      <td>Baldwin, Alabama, US</td>\n",
       "      <td>24.80</td>\n",
       "    </tr>\n",
       "    <tr>\n",
       "      <th>2</th>\n",
       "      <td>Barbour, Alabama, US</td>\n",
       "      <td>22.18</td>\n",
       "    </tr>\n",
       "    <tr>\n",
       "      <th>3</th>\n",
       "      <td>Bibb, Alabama, US</td>\n",
       "      <td>28.64</td>\n",
       "    </tr>\n",
       "    <tr>\n",
       "      <th>4</th>\n",
       "      <td>Blount, Alabama, US</td>\n",
       "      <td>25.75</td>\n",
       "    </tr>\n",
       "    <tr>\n",
       "      <th>...</th>\n",
       "      <td>...</td>\n",
       "      <td>...</td>\n",
       "    </tr>\n",
       "    <tr>\n",
       "      <th>2729</th>\n",
       "      <td>Sublette, Wyoming, US</td>\n",
       "      <td>19.57</td>\n",
       "    </tr>\n",
       "    <tr>\n",
       "      <th>2730</th>\n",
       "      <td>Sweetwater, Wyoming, US</td>\n",
       "      <td>26.08</td>\n",
       "    </tr>\n",
       "    <tr>\n",
       "      <th>2731</th>\n",
       "      <td>Teton, Wyoming, US</td>\n",
       "      <td>42.14</td>\n",
       "    </tr>\n",
       "    <tr>\n",
       "      <th>2732</th>\n",
       "      <td>Uinta, Wyoming, US</td>\n",
       "      <td>27.85</td>\n",
       "    </tr>\n",
       "    <tr>\n",
       "      <th>2733</th>\n",
       "      <td>Washakie, Wyoming, US</td>\n",
       "      <td>30.10</td>\n",
       "    </tr>\n",
       "  </tbody>\n",
       "</table>\n",
       "<p>2734 rows × 2 columns</p>\n",
       "</div>"
      ],
      "text/plain": [
       "                 combined_key  percent_covid\n",
       "0        Autauga, Alabama, US          27.92\n",
       "1        Baldwin, Alabama, US          24.80\n",
       "2        Barbour, Alabama, US          22.18\n",
       "3           Bibb, Alabama, US          28.64\n",
       "4         Blount, Alabama, US          25.75\n",
       "...                       ...            ...\n",
       "2729    Sublette, Wyoming, US          19.57\n",
       "2730  Sweetwater, Wyoming, US          26.08\n",
       "2731       Teton, Wyoming, US          42.14\n",
       "2732       Uinta, Wyoming, US          27.85\n",
       "2733    Washakie, Wyoming, US          30.10\n",
       "\n",
       "[2734 rows x 2 columns]"
      ]
     },
     "execution_count": 6,
     "metadata": {},
     "output_type": "execute_result"
    }
   ],
   "source": [
    "# Start by finding porportion of cases in population\n",
    "merged_covid[\"percent_covid\"] = (\n",
    "    merged_covid[\"total_counts\"] / merged_covid[\"population\"] * 100\n",
    ").round(2)\n",
    "merged_covid[[\"combined_key\", \"percent_covid\"]]"
   ]
  },
  {
   "cell_type": "code",
   "execution_count": 7,
   "metadata": {},
   "outputs": [],
   "source": [
    "# Factors of interest\n",
    "factors = [\n",
    "    \"white_pct\",\n",
    "    \"black_pct\",\n",
    "    \"hispanic_pct\",\n",
    "    \"nonwhite_pct\",\n",
    "    \"foreignborn_pct\",\n",
    "    \"female_pct\",\n",
    "    \"age29andunder_pct\",\n",
    "    \"age65andolder_pct\",\n",
    "    \"median_hh_inc\",\n",
    "    \"clf_unemploy_pct\",\n",
    "    \"lesshs_pct\",\n",
    "    \"lesscollege_pct\",\n",
    "    \"rural_pct\",\n",
    "    \"popdensity\",\n",
    "    \"housedensity\",\n",
    "    \"km_from_equator\",\n",
    "    \"poor_or_fair_health\",\n",
    "    \"adult_smoking\",\n",
    "    \"adult_obesity\",\n",
    "    \"percent_uninsured\",\n",
    "    \"social_association_rate\",\n",
    "    \"air_quality_avg_pm\",\n",
    "    \"percent_insufficient_sleep\",\n",
    "    \"percent_uninsured_adults\",\n",
    "    \"percent_uninsured_children\",\n",
    "]"
   ]
  },
  {
   "cell_type": "code",
   "execution_count": 8,
   "metadata": {},
   "outputs": [
    {
     "data": {
      "text/plain": [
       "{'adult_smoking': (0.34838706001239794, 7.535235972784684e-79),\n",
       " 'poor_or_fair_health': (0.31978622189169326, 4.774972397620813e-66),\n",
       " 'adult_obesity': (0.2668383711296369, 8.617140013510052e-46),\n",
       " 'lesshs_pct': (0.2540874425266933, 1.527223582556921e-41),\n",
       " 'lesscollege_pct': (0.24034900339650875, 3.1630882076599463e-37),\n",
       " 'percent_insufficient_sleep': (0.2068207047514407, 8.50885628883116e-28),\n",
       " 'age29andunder_pct': (0.18907873143504145, 2.0203216300478007e-23),\n",
       " 'air_quality_avg_pm': (0.17942513314722017, 3.2534090826263154e-21),\n",
       " 'clf_unemploy_pct': (0.13025777274649822, 8.092146504841438e-12),\n",
       " 'nonwhite_pct': (0.07065666892206944, 0.00021781522154906504),\n",
       " 'social_association_rate': (0.04809459217319443, 0.011901233720344214),\n",
       " 'hispanic_pct': (0.04612901598643017, 0.015858337593931834),\n",
       " 'percent_uninsured_adults': (0.030434116622028527, 0.11161639116940617),\n",
       " 'black_pct': (0.025150349168389957, 0.18862432469350968),\n",
       " 'popdensity': (0.007633628309730113, 0.6899168647501331),\n",
       " 'percent_uninsured': (-0.0018754948458933262, 0.9219160241649299),\n",
       " 'housedensity': (-0.006352111788315549, 0.7398978968011071),\n",
       " 'rural_pct': (-0.03808235566111649, 0.046475488814029964),\n",
       " 'foreignborn_pct': (-0.06033745625694086, 0.0015976366246915244),\n",
       " 'white_pct': (-0.07065667078308008, 0.00021781513780701957),\n",
       " 'female_pct': (-0.07233238906576683, 0.00015351021340294108),\n",
       " 'percent_uninsured_children': (-0.11207270623705742, 4.206545899369864e-09),\n",
       " 'km_from_equator': (-0.12126520792437864, 2.0010163777983579e-10),\n",
       " 'age65andolder_pct': (-0.20398212587740133, 4.5501805988020825e-27),\n",
       " 'median_hh_inc': (-0.22737645220993888, 2.147392578950117e-33)}"
      ]
     },
     "execution_count": 8,
     "metadata": {},
     "output_type": "execute_result"
    }
   ],
   "source": [
    "def get_factors(col_of_interest):\n",
    "    \"\"\"\n",
    "    Find correlation of each factor of interest with the population of individuals with COVID in each county.\n",
    "\n",
    "    Returns a sorted dictionary of coeeficients and p-values.\n",
    "    \"\"\"\n",
    "\n",
    "    to_return_dict = {}\n",
    "\n",
    "    for factor in factors:\n",
    "        coef, pval = pearsonr(merged_covid[col_of_interest], merged_covid[factor])\n",
    "        to_return_dict[factor] = (coef, pval)\n",
    "\n",
    "    to_return_dict = dict(\n",
    "        sorted(to_return_dict.items(), key=lambda x: x[1][0], reverse=True)\n",
    "    )\n",
    "\n",
    "    return to_return_dict\n",
    "\n",
    "\n",
    "result_dict = get_factors(\"percent_covid\")\n",
    "result_dict"
   ]
  },
  {
   "cell_type": "code",
   "execution_count": 9,
   "metadata": {},
   "outputs": [
    {
     "data": {
      "application/vnd.plotly.v1+json": {
       "config": {
        "plotlyServerURL": "https://plot.ly"
       },
       "data": [
        {
         "marker": {
          "cmax": 0.9219160241649299,
          "cmin": 7.535235972784684e-79,
          "color": [
           7.535235972784684e-79,
           4.774972397620813e-66,
           8.617140013510052e-46,
           1.527223582556921e-41,
           3.1630882076599463e-37,
           8.50885628883116e-28,
           2.0203216300478007e-23,
           3.2534090826263154e-21,
           8.092146504841438e-12,
           0.00021781522154906504,
           0.011901233720344214,
           0.015858337593931834,
           0.11161639116940617,
           0.18862432469350968,
           0.6899168647501331,
           0.9219160241649299,
           0.7398978968011071,
           0.046475488814029964,
           0.0015976366246915244,
           0.00021781513780701957,
           0.00015351021340294108,
           4.206545899369864e-9,
           2.0010163777983579e-10,
           4.5501805988020825e-27,
           2.147392578950117e-33
          ],
          "colorbar": {
           "title": {
            "text": "P-Value"
           }
          },
          "colorscale": [
           [
            0,
            "#440154"
           ],
           [
            0.1111111111111111,
            "#482878"
           ],
           [
            0.2222222222222222,
            "#3e4989"
           ],
           [
            0.3333333333333333,
            "#31688e"
           ],
           [
            0.4444444444444444,
            "#26828e"
           ],
           [
            0.5555555555555556,
            "#1f9e89"
           ],
           [
            0.6666666666666666,
            "#35b779"
           ],
           [
            0.7777777777777778,
            "#6ece58"
           ],
           [
            0.8888888888888888,
            "#b5de2b"
           ],
           [
            1,
            "#fde725"
           ]
          ]
         },
         "orientation": "h",
         "type": "bar",
         "x": [
          0.34838706001239794,
          0.31978622189169326,
          0.2668383711296369,
          0.2540874425266933,
          0.24034900339650875,
          0.2068207047514407,
          0.18907873143504145,
          0.17942513314722017,
          0.13025777274649822,
          0.07065666892206944,
          0.04809459217319443,
          0.04612901598643017,
          0.030434116622028527,
          0.025150349168389957,
          0.007633628309730113,
          -0.0018754948458933262,
          -0.006352111788315549,
          -0.03808235566111649,
          -0.06033745625694086,
          -0.07065667078308008,
          -0.07233238906576683,
          -0.11207270623705742,
          -0.12126520792437864,
          -0.20398212587740133,
          -0.22737645220993888
         ],
         "y": [
          "adult_smoking",
          "poor_or_fair_health",
          "adult_obesity",
          "lesshs_pct",
          "lesscollege_pct",
          "percent_insufficient_sleep",
          "age29andunder_pct",
          "air_quality_avg_pm",
          "clf_unemploy_pct",
          "nonwhite_pct",
          "social_association_rate",
          "hispanic_pct",
          "percent_uninsured_adults",
          "black_pct",
          "popdensity",
          "percent_uninsured",
          "housedensity",
          "rural_pct",
          "foreignborn_pct",
          "white_pct",
          "female_pct",
          "percent_uninsured_children",
          "km_from_equator",
          "age65andolder_pct",
          "median_hh_inc"
         ]
        }
       ],
       "layout": {
        "height": 600,
        "template": {
         "data": {
          "bar": [
           {
            "error_x": {
             "color": "#2a3f5f"
            },
            "error_y": {
             "color": "#2a3f5f"
            },
            "marker": {
             "line": {
              "color": "#E5ECF6",
              "width": 0.5
             },
             "pattern": {
              "fillmode": "overlay",
              "size": 10,
              "solidity": 0.2
             }
            },
            "type": "bar"
           }
          ],
          "barpolar": [
           {
            "marker": {
             "line": {
              "color": "#E5ECF6",
              "width": 0.5
             },
             "pattern": {
              "fillmode": "overlay",
              "size": 10,
              "solidity": 0.2
             }
            },
            "type": "barpolar"
           }
          ],
          "carpet": [
           {
            "aaxis": {
             "endlinecolor": "#2a3f5f",
             "gridcolor": "white",
             "linecolor": "white",
             "minorgridcolor": "white",
             "startlinecolor": "#2a3f5f"
            },
            "baxis": {
             "endlinecolor": "#2a3f5f",
             "gridcolor": "white",
             "linecolor": "white",
             "minorgridcolor": "white",
             "startlinecolor": "#2a3f5f"
            },
            "type": "carpet"
           }
          ],
          "choropleth": [
           {
            "colorbar": {
             "outlinewidth": 0,
             "ticks": ""
            },
            "type": "choropleth"
           }
          ],
          "contour": [
           {
            "colorbar": {
             "outlinewidth": 0,
             "ticks": ""
            },
            "colorscale": [
             [
              0,
              "#0d0887"
             ],
             [
              0.1111111111111111,
              "#46039f"
             ],
             [
              0.2222222222222222,
              "#7201a8"
             ],
             [
              0.3333333333333333,
              "#9c179e"
             ],
             [
              0.4444444444444444,
              "#bd3786"
             ],
             [
              0.5555555555555556,
              "#d8576b"
             ],
             [
              0.6666666666666666,
              "#ed7953"
             ],
             [
              0.7777777777777778,
              "#fb9f3a"
             ],
             [
              0.8888888888888888,
              "#fdca26"
             ],
             [
              1,
              "#f0f921"
             ]
            ],
            "type": "contour"
           }
          ],
          "contourcarpet": [
           {
            "colorbar": {
             "outlinewidth": 0,
             "ticks": ""
            },
            "type": "contourcarpet"
           }
          ],
          "heatmap": [
           {
            "colorbar": {
             "outlinewidth": 0,
             "ticks": ""
            },
            "colorscale": [
             [
              0,
              "#0d0887"
             ],
             [
              0.1111111111111111,
              "#46039f"
             ],
             [
              0.2222222222222222,
              "#7201a8"
             ],
             [
              0.3333333333333333,
              "#9c179e"
             ],
             [
              0.4444444444444444,
              "#bd3786"
             ],
             [
              0.5555555555555556,
              "#d8576b"
             ],
             [
              0.6666666666666666,
              "#ed7953"
             ],
             [
              0.7777777777777778,
              "#fb9f3a"
             ],
             [
              0.8888888888888888,
              "#fdca26"
             ],
             [
              1,
              "#f0f921"
             ]
            ],
            "type": "heatmap"
           }
          ],
          "heatmapgl": [
           {
            "colorbar": {
             "outlinewidth": 0,
             "ticks": ""
            },
            "colorscale": [
             [
              0,
              "#0d0887"
             ],
             [
              0.1111111111111111,
              "#46039f"
             ],
             [
              0.2222222222222222,
              "#7201a8"
             ],
             [
              0.3333333333333333,
              "#9c179e"
             ],
             [
              0.4444444444444444,
              "#bd3786"
             ],
             [
              0.5555555555555556,
              "#d8576b"
             ],
             [
              0.6666666666666666,
              "#ed7953"
             ],
             [
              0.7777777777777778,
              "#fb9f3a"
             ],
             [
              0.8888888888888888,
              "#fdca26"
             ],
             [
              1,
              "#f0f921"
             ]
            ],
            "type": "heatmapgl"
           }
          ],
          "histogram": [
           {
            "marker": {
             "pattern": {
              "fillmode": "overlay",
              "size": 10,
              "solidity": 0.2
             }
            },
            "type": "histogram"
           }
          ],
          "histogram2d": [
           {
            "colorbar": {
             "outlinewidth": 0,
             "ticks": ""
            },
            "colorscale": [
             [
              0,
              "#0d0887"
             ],
             [
              0.1111111111111111,
              "#46039f"
             ],
             [
              0.2222222222222222,
              "#7201a8"
             ],
             [
              0.3333333333333333,
              "#9c179e"
             ],
             [
              0.4444444444444444,
              "#bd3786"
             ],
             [
              0.5555555555555556,
              "#d8576b"
             ],
             [
              0.6666666666666666,
              "#ed7953"
             ],
             [
              0.7777777777777778,
              "#fb9f3a"
             ],
             [
              0.8888888888888888,
              "#fdca26"
             ],
             [
              1,
              "#f0f921"
             ]
            ],
            "type": "histogram2d"
           }
          ],
          "histogram2dcontour": [
           {
            "colorbar": {
             "outlinewidth": 0,
             "ticks": ""
            },
            "colorscale": [
             [
              0,
              "#0d0887"
             ],
             [
              0.1111111111111111,
              "#46039f"
             ],
             [
              0.2222222222222222,
              "#7201a8"
             ],
             [
              0.3333333333333333,
              "#9c179e"
             ],
             [
              0.4444444444444444,
              "#bd3786"
             ],
             [
              0.5555555555555556,
              "#d8576b"
             ],
             [
              0.6666666666666666,
              "#ed7953"
             ],
             [
              0.7777777777777778,
              "#fb9f3a"
             ],
             [
              0.8888888888888888,
              "#fdca26"
             ],
             [
              1,
              "#f0f921"
             ]
            ],
            "type": "histogram2dcontour"
           }
          ],
          "mesh3d": [
           {
            "colorbar": {
             "outlinewidth": 0,
             "ticks": ""
            },
            "type": "mesh3d"
           }
          ],
          "parcoords": [
           {
            "line": {
             "colorbar": {
              "outlinewidth": 0,
              "ticks": ""
             }
            },
            "type": "parcoords"
           }
          ],
          "pie": [
           {
            "automargin": true,
            "type": "pie"
           }
          ],
          "scatter": [
           {
            "fillpattern": {
             "fillmode": "overlay",
             "size": 10,
             "solidity": 0.2
            },
            "type": "scatter"
           }
          ],
          "scatter3d": [
           {
            "line": {
             "colorbar": {
              "outlinewidth": 0,
              "ticks": ""
             }
            },
            "marker": {
             "colorbar": {
              "outlinewidth": 0,
              "ticks": ""
             }
            },
            "type": "scatter3d"
           }
          ],
          "scattercarpet": [
           {
            "marker": {
             "colorbar": {
              "outlinewidth": 0,
              "ticks": ""
             }
            },
            "type": "scattercarpet"
           }
          ],
          "scattergeo": [
           {
            "marker": {
             "colorbar": {
              "outlinewidth": 0,
              "ticks": ""
             }
            },
            "type": "scattergeo"
           }
          ],
          "scattergl": [
           {
            "marker": {
             "colorbar": {
              "outlinewidth": 0,
              "ticks": ""
             }
            },
            "type": "scattergl"
           }
          ],
          "scattermapbox": [
           {
            "marker": {
             "colorbar": {
              "outlinewidth": 0,
              "ticks": ""
             }
            },
            "type": "scattermapbox"
           }
          ],
          "scatterpolar": [
           {
            "marker": {
             "colorbar": {
              "outlinewidth": 0,
              "ticks": ""
             }
            },
            "type": "scatterpolar"
           }
          ],
          "scatterpolargl": [
           {
            "marker": {
             "colorbar": {
              "outlinewidth": 0,
              "ticks": ""
             }
            },
            "type": "scatterpolargl"
           }
          ],
          "scatterternary": [
           {
            "marker": {
             "colorbar": {
              "outlinewidth": 0,
              "ticks": ""
             }
            },
            "type": "scatterternary"
           }
          ],
          "surface": [
           {
            "colorbar": {
             "outlinewidth": 0,
             "ticks": ""
            },
            "colorscale": [
             [
              0,
              "#0d0887"
             ],
             [
              0.1111111111111111,
              "#46039f"
             ],
             [
              0.2222222222222222,
              "#7201a8"
             ],
             [
              0.3333333333333333,
              "#9c179e"
             ],
             [
              0.4444444444444444,
              "#bd3786"
             ],
             [
              0.5555555555555556,
              "#d8576b"
             ],
             [
              0.6666666666666666,
              "#ed7953"
             ],
             [
              0.7777777777777778,
              "#fb9f3a"
             ],
             [
              0.8888888888888888,
              "#fdca26"
             ],
             [
              1,
              "#f0f921"
             ]
            ],
            "type": "surface"
           }
          ],
          "table": [
           {
            "cells": {
             "fill": {
              "color": "#EBF0F8"
             },
             "line": {
              "color": "white"
             }
            },
            "header": {
             "fill": {
              "color": "#C8D4E3"
             },
             "line": {
              "color": "white"
             }
            },
            "type": "table"
           }
          ]
         },
         "layout": {
          "annotationdefaults": {
           "arrowcolor": "#2a3f5f",
           "arrowhead": 0,
           "arrowwidth": 1
          },
          "autotypenumbers": "strict",
          "coloraxis": {
           "colorbar": {
            "outlinewidth": 0,
            "ticks": ""
           }
          },
          "colorscale": {
           "diverging": [
            [
             0,
             "#8e0152"
            ],
            [
             0.1,
             "#c51b7d"
            ],
            [
             0.2,
             "#de77ae"
            ],
            [
             0.3,
             "#f1b6da"
            ],
            [
             0.4,
             "#fde0ef"
            ],
            [
             0.5,
             "#f7f7f7"
            ],
            [
             0.6,
             "#e6f5d0"
            ],
            [
             0.7,
             "#b8e186"
            ],
            [
             0.8,
             "#7fbc41"
            ],
            [
             0.9,
             "#4d9221"
            ],
            [
             1,
             "#276419"
            ]
           ],
           "sequential": [
            [
             0,
             "#0d0887"
            ],
            [
             0.1111111111111111,
             "#46039f"
            ],
            [
             0.2222222222222222,
             "#7201a8"
            ],
            [
             0.3333333333333333,
             "#9c179e"
            ],
            [
             0.4444444444444444,
             "#bd3786"
            ],
            [
             0.5555555555555556,
             "#d8576b"
            ],
            [
             0.6666666666666666,
             "#ed7953"
            ],
            [
             0.7777777777777778,
             "#fb9f3a"
            ],
            [
             0.8888888888888888,
             "#fdca26"
            ],
            [
             1,
             "#f0f921"
            ]
           ],
           "sequentialminus": [
            [
             0,
             "#0d0887"
            ],
            [
             0.1111111111111111,
             "#46039f"
            ],
            [
             0.2222222222222222,
             "#7201a8"
            ],
            [
             0.3333333333333333,
             "#9c179e"
            ],
            [
             0.4444444444444444,
             "#bd3786"
            ],
            [
             0.5555555555555556,
             "#d8576b"
            ],
            [
             0.6666666666666666,
             "#ed7953"
            ],
            [
             0.7777777777777778,
             "#fb9f3a"
            ],
            [
             0.8888888888888888,
             "#fdca26"
            ],
            [
             1,
             "#f0f921"
            ]
           ]
          },
          "colorway": [
           "#636efa",
           "#EF553B",
           "#00cc96",
           "#ab63fa",
           "#FFA15A",
           "#19d3f3",
           "#FF6692",
           "#B6E880",
           "#FF97FF",
           "#FECB52"
          ],
          "font": {
           "color": "#2a3f5f"
          },
          "geo": {
           "bgcolor": "white",
           "lakecolor": "white",
           "landcolor": "#E5ECF6",
           "showlakes": true,
           "showland": true,
           "subunitcolor": "white"
          },
          "hoverlabel": {
           "align": "left"
          },
          "hovermode": "closest",
          "mapbox": {
           "style": "light"
          },
          "paper_bgcolor": "white",
          "plot_bgcolor": "#E5ECF6",
          "polar": {
           "angularaxis": {
            "gridcolor": "white",
            "linecolor": "white",
            "ticks": ""
           },
           "bgcolor": "#E5ECF6",
           "radialaxis": {
            "gridcolor": "white",
            "linecolor": "white",
            "ticks": ""
           }
          },
          "scene": {
           "xaxis": {
            "backgroundcolor": "#E5ECF6",
            "gridcolor": "white",
            "gridwidth": 2,
            "linecolor": "white",
            "showbackground": true,
            "ticks": "",
            "zerolinecolor": "white"
           },
           "yaxis": {
            "backgroundcolor": "#E5ECF6",
            "gridcolor": "white",
            "gridwidth": 2,
            "linecolor": "white",
            "showbackground": true,
            "ticks": "",
            "zerolinecolor": "white"
           },
           "zaxis": {
            "backgroundcolor": "#E5ECF6",
            "gridcolor": "white",
            "gridwidth": 2,
            "linecolor": "white",
            "showbackground": true,
            "ticks": "",
            "zerolinecolor": "white"
           }
          },
          "shapedefaults": {
           "line": {
            "color": "#2a3f5f"
           }
          },
          "ternary": {
           "aaxis": {
            "gridcolor": "white",
            "linecolor": "white",
            "ticks": ""
           },
           "baxis": {
            "gridcolor": "white",
            "linecolor": "white",
            "ticks": ""
           },
           "bgcolor": "#E5ECF6",
           "caxis": {
            "gridcolor": "white",
            "linecolor": "white",
            "ticks": ""
           }
          },
          "title": {
           "x": 0.05
          },
          "xaxis": {
           "automargin": true,
           "gridcolor": "white",
           "linecolor": "white",
           "ticks": "",
           "title": {
            "standoff": 15
           },
           "zerolinecolor": "white",
           "zerolinewidth": 2
          },
          "yaxis": {
           "automargin": true,
           "gridcolor": "white",
           "linecolor": "white",
           "ticks": "",
           "title": {
            "standoff": 15
           },
           "zerolinecolor": "white",
           "zerolinewidth": 2
          }
         }
        },
        "title": {
         "text": "Factors that correleate with COVID"
        },
        "width": 800,
        "xaxis": {
         "title": {
          "text": "Coefficient Value"
         }
        },
        "yaxis": {
         "title": {
          "text": "Features"
         }
        }
       }
      }
     },
     "metadata": {},
     "output_type": "display_data"
    }
   ],
   "source": [
    "# Extracting keys, values, and colors from the dictionary\n",
    "keys = list(result_dict.keys())\n",
    "values = [item[0] for item in result_dict.values()]\n",
    "colors = [item[1] for item in result_dict.values()]\n",
    "\n",
    "# Create a bar plot\n",
    "fig = go.Figure()\n",
    "\n",
    "fig.add_trace(\n",
    "    go.Bar(\n",
    "        y=keys,\n",
    "        x=values,\n",
    "        orientation=\"h\",\n",
    "        marker=dict(\n",
    "            color=colors,\n",
    "            colorscale=\"Viridis\",  # You can choose other color scales\n",
    "            cmin=min(colors),\n",
    "            cmax=max(colors),\n",
    "            colorbar=dict(title=\"P-Value\"),\n",
    "        ),\n",
    "    )\n",
    ")\n",
    "\n",
    "# Add labels and title\n",
    "fig.update_layout(\n",
    "    title=\"Factors that correleate with COVID\",\n",
    "    xaxis_title=\"Coefficient Value\",\n",
    "    yaxis_title=\"Features\",\n",
    "    height=600,  # Set the height of the figure\n",
    "    width=800,  # Set the width of the figure\n",
    ")\n",
    "\n",
    "# Show the plot\n",
    "fig.show()"
   ]
  },
  {
   "cell_type": "markdown",
   "metadata": {},
   "source": [
    "Smoking is the factor most positvely corrleated with covid cases, followed by poor health and obesity. Conversely, median household income negatively correlates with covid. \n",
    "\n",
    "We can plot the ratio of cases in comparision to smokers:"
   ]
  },
  {
   "cell_type": "code",
   "execution_count": 10,
   "metadata": {},
   "outputs": [
    {
     "data": {
      "application/vnd.plotly.v1+json": {
       "config": {
        "plotlyServerURL": "https://plot.ly"
       },
       "data": [
        {
         "colorbar": {
          "x": 0.46
         },
         "colorscale": [
          [
           0,
           "rgb(247,251,255)"
          ],
          [
           0.125,
           "rgb(222,235,247)"
          ],
          [
           0.25,
           "rgb(198,219,239)"
          ],
          [
           0.375,
           "rgb(158,202,225)"
          ],
          [
           0.5,
           "rgb(107,174,214)"
          ],
          [
           0.625,
           "rgb(66,146,198)"
          ],
          [
           0.75,
           "rgb(33,113,181)"
          ],
          [
           0.875,
           "rgb(8,81,156)"
          ],
          [
           1,
           "rgb(8,48,107)"
          ]
         ],
         "geo": "geo",
         "locationmode": "USA-states",
         "locations": [
          "AL",
          "AZ",
          "AR",
          "CA",
          "CO",
          "CT",
          "DE",
          "FL",
          "GA",
          "ID",
          "IL",
          "IN",
          "IA",
          "KS",
          "KY",
          "ME",
          "MD",
          "MA",
          "MI",
          "MN",
          "MS",
          "MO",
          "MT",
          "NE",
          "NV",
          "NH",
          "NJ",
          "NM",
          "NY",
          "NC",
          "ND",
          "OH",
          "OK",
          "OR",
          "PA",
          "RI",
          "SC",
          "SD",
          "TN",
          "TX",
          "UT",
          "VT",
          "VA",
          "WA",
          "WV",
          "WI",
          "WY"
         ],
         "marker": {
          "line": {
           "width": 0.5
          },
          "opacity": 0.75
         },
         "type": "choropleth",
         "z": [
          26.3514,
          27.3739,
          26.6922,
          22.9627,
          23.2239,
          20.4883,
          26.4831,
          27.3136,
          22.819,
          25.0165,
          24.1723,
          25.1882,
          24.0231,
          26.4164,
          29.1912,
          17.4194,
          16.0453,
          22.5461,
          23.4136,
          25.3469,
          26.6461,
          21.1736,
          25.7851,
          24.594,
          22.8366,
          21.5779,
          24.6274,
          23.3477,
          23.9101,
          24.991,
          32.0422,
          22.8078,
          26.0423,
          16.649,
          21.6916,
          31.3809,
          28.504,
          27.0331,
          28.2486,
          22.8975,
          24.7717,
          18.353,
          18.9945,
          18.9821,
          27.7029,
          27.1079,
          27.0018
         ]
        },
        {
         "colorbar": {
          "x": 1.02
         },
         "colorscale": [
          [
           0,
           "rgb(247,251,255)"
          ],
          [
           0.125,
           "rgb(222,235,247)"
          ],
          [
           0.25,
           "rgb(198,219,239)"
          ],
          [
           0.375,
           "rgb(158,202,225)"
          ],
          [
           0.5,
           "rgb(107,174,214)"
          ],
          [
           0.625,
           "rgb(66,146,198)"
          ],
          [
           0.75,
           "rgb(33,113,181)"
          ],
          [
           0.875,
           "rgb(8,81,156)"
          ],
          [
           1,
           "rgb(8,48,107)"
          ]
         ],
         "geo": "geo2",
         "locationmode": "USA-states",
         "locations": [
          "AL",
          "AZ",
          "AR",
          "CA",
          "CO",
          "CT",
          "DE",
          "FL",
          "GA",
          "ID",
          "IL",
          "IN",
          "IA",
          "KS",
          "KY",
          "ME",
          "MD",
          "MA",
          "MI",
          "MN",
          "MS",
          "MO",
          "MT",
          "NE",
          "NV",
          "NH",
          "NJ",
          "NM",
          "NY",
          "NC",
          "ND",
          "OH",
          "OK",
          "OR",
          "PA",
          "RI",
          "SC",
          "SD",
          "TN",
          "TX",
          "UT",
          "VT",
          "VA",
          "WA",
          "WV",
          "WI",
          "WY"
         ],
         "marker": {
          "line": {
           "width": 0.5
          },
          "opacity": 0.75
         },
         "type": "choropleth",
         "z": [
          19.3457,
          14.4792,
          19.9843,
          11.3357,
          14.2554,
          12.3573,
          17.2218,
          15.7095,
          17.5246,
          14.3053,
          14.9462,
          19.4244,
          15.4479,
          16.4491,
          20.9266,
          16.5453,
          12.1828,
          14.1341,
          18.0523,
          14.0713,
          19.8157,
          20.8049,
          17.24,
          16.0669,
          15.8177,
          14.9387,
          14.1891,
          15.3273,
          15.7898,
          17.5223,
          17.0087,
          19.8355,
          17.4161,
          15.0367,
          15.9406,
          15.2348,
          17.3565,
          15.951,
          20.773,
          14.5325,
          8.4578,
          14.7772,
          14.2912,
          12.9069,
          22.0475,
          15.7751,
          16.6916
         ]
        }
       ],
       "layout": {
        "annotations": [
         {
          "font": {
           "size": 16
          },
          "showarrow": false,
          "text": "Percent Covid Cases",
          "x": 0.225,
          "xanchor": "center",
          "xref": "paper",
          "y": 1,
          "yanchor": "bottom",
          "yref": "paper"
         },
         {
          "font": {
           "size": 16
          },
          "showarrow": false,
          "text": "Percent Smoking",
          "x": 0.775,
          "xanchor": "center",
          "xref": "paper",
          "y": 1,
          "yanchor": "bottom",
          "yref": "paper"
         }
        ],
        "geo": {
         "domain": {
          "x": [
           0,
           0.45
          ],
          "y": [
           0,
           1
          ]
         },
         "scope": "usa"
        },
        "geo2": {
         "domain": {
          "x": [
           0.55,
           1
          ],
          "y": [
           0,
           1
          ]
         },
         "scope": "usa"
        },
        "template": {
         "data": {
          "bar": [
           {
            "error_x": {
             "color": "#2a3f5f"
            },
            "error_y": {
             "color": "#2a3f5f"
            },
            "marker": {
             "line": {
              "color": "#E5ECF6",
              "width": 0.5
             },
             "pattern": {
              "fillmode": "overlay",
              "size": 10,
              "solidity": 0.2
             }
            },
            "type": "bar"
           }
          ],
          "barpolar": [
           {
            "marker": {
             "line": {
              "color": "#E5ECF6",
              "width": 0.5
             },
             "pattern": {
              "fillmode": "overlay",
              "size": 10,
              "solidity": 0.2
             }
            },
            "type": "barpolar"
           }
          ],
          "carpet": [
           {
            "aaxis": {
             "endlinecolor": "#2a3f5f",
             "gridcolor": "white",
             "linecolor": "white",
             "minorgridcolor": "white",
             "startlinecolor": "#2a3f5f"
            },
            "baxis": {
             "endlinecolor": "#2a3f5f",
             "gridcolor": "white",
             "linecolor": "white",
             "minorgridcolor": "white",
             "startlinecolor": "#2a3f5f"
            },
            "type": "carpet"
           }
          ],
          "choropleth": [
           {
            "colorbar": {
             "outlinewidth": 0,
             "ticks": ""
            },
            "type": "choropleth"
           }
          ],
          "contour": [
           {
            "colorbar": {
             "outlinewidth": 0,
             "ticks": ""
            },
            "colorscale": [
             [
              0,
              "#0d0887"
             ],
             [
              0.1111111111111111,
              "#46039f"
             ],
             [
              0.2222222222222222,
              "#7201a8"
             ],
             [
              0.3333333333333333,
              "#9c179e"
             ],
             [
              0.4444444444444444,
              "#bd3786"
             ],
             [
              0.5555555555555556,
              "#d8576b"
             ],
             [
              0.6666666666666666,
              "#ed7953"
             ],
             [
              0.7777777777777778,
              "#fb9f3a"
             ],
             [
              0.8888888888888888,
              "#fdca26"
             ],
             [
              1,
              "#f0f921"
             ]
            ],
            "type": "contour"
           }
          ],
          "contourcarpet": [
           {
            "colorbar": {
             "outlinewidth": 0,
             "ticks": ""
            },
            "type": "contourcarpet"
           }
          ],
          "heatmap": [
           {
            "colorbar": {
             "outlinewidth": 0,
             "ticks": ""
            },
            "colorscale": [
             [
              0,
              "#0d0887"
             ],
             [
              0.1111111111111111,
              "#46039f"
             ],
             [
              0.2222222222222222,
              "#7201a8"
             ],
             [
              0.3333333333333333,
              "#9c179e"
             ],
             [
              0.4444444444444444,
              "#bd3786"
             ],
             [
              0.5555555555555556,
              "#d8576b"
             ],
             [
              0.6666666666666666,
              "#ed7953"
             ],
             [
              0.7777777777777778,
              "#fb9f3a"
             ],
             [
              0.8888888888888888,
              "#fdca26"
             ],
             [
              1,
              "#f0f921"
             ]
            ],
            "type": "heatmap"
           }
          ],
          "heatmapgl": [
           {
            "colorbar": {
             "outlinewidth": 0,
             "ticks": ""
            },
            "colorscale": [
             [
              0,
              "#0d0887"
             ],
             [
              0.1111111111111111,
              "#46039f"
             ],
             [
              0.2222222222222222,
              "#7201a8"
             ],
             [
              0.3333333333333333,
              "#9c179e"
             ],
             [
              0.4444444444444444,
              "#bd3786"
             ],
             [
              0.5555555555555556,
              "#d8576b"
             ],
             [
              0.6666666666666666,
              "#ed7953"
             ],
             [
              0.7777777777777778,
              "#fb9f3a"
             ],
             [
              0.8888888888888888,
              "#fdca26"
             ],
             [
              1,
              "#f0f921"
             ]
            ],
            "type": "heatmapgl"
           }
          ],
          "histogram": [
           {
            "marker": {
             "pattern": {
              "fillmode": "overlay",
              "size": 10,
              "solidity": 0.2
             }
            },
            "type": "histogram"
           }
          ],
          "histogram2d": [
           {
            "colorbar": {
             "outlinewidth": 0,
             "ticks": ""
            },
            "colorscale": [
             [
              0,
              "#0d0887"
             ],
             [
              0.1111111111111111,
              "#46039f"
             ],
             [
              0.2222222222222222,
              "#7201a8"
             ],
             [
              0.3333333333333333,
              "#9c179e"
             ],
             [
              0.4444444444444444,
              "#bd3786"
             ],
             [
              0.5555555555555556,
              "#d8576b"
             ],
             [
              0.6666666666666666,
              "#ed7953"
             ],
             [
              0.7777777777777778,
              "#fb9f3a"
             ],
             [
              0.8888888888888888,
              "#fdca26"
             ],
             [
              1,
              "#f0f921"
             ]
            ],
            "type": "histogram2d"
           }
          ],
          "histogram2dcontour": [
           {
            "colorbar": {
             "outlinewidth": 0,
             "ticks": ""
            },
            "colorscale": [
             [
              0,
              "#0d0887"
             ],
             [
              0.1111111111111111,
              "#46039f"
             ],
             [
              0.2222222222222222,
              "#7201a8"
             ],
             [
              0.3333333333333333,
              "#9c179e"
             ],
             [
              0.4444444444444444,
              "#bd3786"
             ],
             [
              0.5555555555555556,
              "#d8576b"
             ],
             [
              0.6666666666666666,
              "#ed7953"
             ],
             [
              0.7777777777777778,
              "#fb9f3a"
             ],
             [
              0.8888888888888888,
              "#fdca26"
             ],
             [
              1,
              "#f0f921"
             ]
            ],
            "type": "histogram2dcontour"
           }
          ],
          "mesh3d": [
           {
            "colorbar": {
             "outlinewidth": 0,
             "ticks": ""
            },
            "type": "mesh3d"
           }
          ],
          "parcoords": [
           {
            "line": {
             "colorbar": {
              "outlinewidth": 0,
              "ticks": ""
             }
            },
            "type": "parcoords"
           }
          ],
          "pie": [
           {
            "automargin": true,
            "type": "pie"
           }
          ],
          "scatter": [
           {
            "fillpattern": {
             "fillmode": "overlay",
             "size": 10,
             "solidity": 0.2
            },
            "type": "scatter"
           }
          ],
          "scatter3d": [
           {
            "line": {
             "colorbar": {
              "outlinewidth": 0,
              "ticks": ""
             }
            },
            "marker": {
             "colorbar": {
              "outlinewidth": 0,
              "ticks": ""
             }
            },
            "type": "scatter3d"
           }
          ],
          "scattercarpet": [
           {
            "marker": {
             "colorbar": {
              "outlinewidth": 0,
              "ticks": ""
             }
            },
            "type": "scattercarpet"
           }
          ],
          "scattergeo": [
           {
            "marker": {
             "colorbar": {
              "outlinewidth": 0,
              "ticks": ""
             }
            },
            "type": "scattergeo"
           }
          ],
          "scattergl": [
           {
            "marker": {
             "colorbar": {
              "outlinewidth": 0,
              "ticks": ""
             }
            },
            "type": "scattergl"
           }
          ],
          "scattermapbox": [
           {
            "marker": {
             "colorbar": {
              "outlinewidth": 0,
              "ticks": ""
             }
            },
            "type": "scattermapbox"
           }
          ],
          "scatterpolar": [
           {
            "marker": {
             "colorbar": {
              "outlinewidth": 0,
              "ticks": ""
             }
            },
            "type": "scatterpolar"
           }
          ],
          "scatterpolargl": [
           {
            "marker": {
             "colorbar": {
              "outlinewidth": 0,
              "ticks": ""
             }
            },
            "type": "scatterpolargl"
           }
          ],
          "scatterternary": [
           {
            "marker": {
             "colorbar": {
              "outlinewidth": 0,
              "ticks": ""
             }
            },
            "type": "scatterternary"
           }
          ],
          "surface": [
           {
            "colorbar": {
             "outlinewidth": 0,
             "ticks": ""
            },
            "colorscale": [
             [
              0,
              "#0d0887"
             ],
             [
              0.1111111111111111,
              "#46039f"
             ],
             [
              0.2222222222222222,
              "#7201a8"
             ],
             [
              0.3333333333333333,
              "#9c179e"
             ],
             [
              0.4444444444444444,
              "#bd3786"
             ],
             [
              0.5555555555555556,
              "#d8576b"
             ],
             [
              0.6666666666666666,
              "#ed7953"
             ],
             [
              0.7777777777777778,
              "#fb9f3a"
             ],
             [
              0.8888888888888888,
              "#fdca26"
             ],
             [
              1,
              "#f0f921"
             ]
            ],
            "type": "surface"
           }
          ],
          "table": [
           {
            "cells": {
             "fill": {
              "color": "#EBF0F8"
             },
             "line": {
              "color": "white"
             }
            },
            "header": {
             "fill": {
              "color": "#C8D4E3"
             },
             "line": {
              "color": "white"
             }
            },
            "type": "table"
           }
          ]
         },
         "layout": {
          "annotationdefaults": {
           "arrowcolor": "#2a3f5f",
           "arrowhead": 0,
           "arrowwidth": 1
          },
          "autotypenumbers": "strict",
          "coloraxis": {
           "colorbar": {
            "outlinewidth": 0,
            "ticks": ""
           }
          },
          "colorscale": {
           "diverging": [
            [
             0,
             "#8e0152"
            ],
            [
             0.1,
             "#c51b7d"
            ],
            [
             0.2,
             "#de77ae"
            ],
            [
             0.3,
             "#f1b6da"
            ],
            [
             0.4,
             "#fde0ef"
            ],
            [
             0.5,
             "#f7f7f7"
            ],
            [
             0.6,
             "#e6f5d0"
            ],
            [
             0.7,
             "#b8e186"
            ],
            [
             0.8,
             "#7fbc41"
            ],
            [
             0.9,
             "#4d9221"
            ],
            [
             1,
             "#276419"
            ]
           ],
           "sequential": [
            [
             0,
             "#0d0887"
            ],
            [
             0.1111111111111111,
             "#46039f"
            ],
            [
             0.2222222222222222,
             "#7201a8"
            ],
            [
             0.3333333333333333,
             "#9c179e"
            ],
            [
             0.4444444444444444,
             "#bd3786"
            ],
            [
             0.5555555555555556,
             "#d8576b"
            ],
            [
             0.6666666666666666,
             "#ed7953"
            ],
            [
             0.7777777777777778,
             "#fb9f3a"
            ],
            [
             0.8888888888888888,
             "#fdca26"
            ],
            [
             1,
             "#f0f921"
            ]
           ],
           "sequentialminus": [
            [
             0,
             "#0d0887"
            ],
            [
             0.1111111111111111,
             "#46039f"
            ],
            [
             0.2222222222222222,
             "#7201a8"
            ],
            [
             0.3333333333333333,
             "#9c179e"
            ],
            [
             0.4444444444444444,
             "#bd3786"
            ],
            [
             0.5555555555555556,
             "#d8576b"
            ],
            [
             0.6666666666666666,
             "#ed7953"
            ],
            [
             0.7777777777777778,
             "#fb9f3a"
            ],
            [
             0.8888888888888888,
             "#fdca26"
            ],
            [
             1,
             "#f0f921"
            ]
           ]
          },
          "colorway": [
           "#636efa",
           "#EF553B",
           "#00cc96",
           "#ab63fa",
           "#FFA15A",
           "#19d3f3",
           "#FF6692",
           "#B6E880",
           "#FF97FF",
           "#FECB52"
          ],
          "font": {
           "color": "#2a3f5f"
          },
          "geo": {
           "bgcolor": "white",
           "lakecolor": "white",
           "landcolor": "#E5ECF6",
           "showlakes": true,
           "showland": true,
           "subunitcolor": "white"
          },
          "hoverlabel": {
           "align": "left"
          },
          "hovermode": "closest",
          "mapbox": {
           "style": "light"
          },
          "paper_bgcolor": "white",
          "plot_bgcolor": "#E5ECF6",
          "polar": {
           "angularaxis": {
            "gridcolor": "white",
            "linecolor": "white",
            "ticks": ""
           },
           "bgcolor": "#E5ECF6",
           "radialaxis": {
            "gridcolor": "white",
            "linecolor": "white",
            "ticks": ""
           }
          },
          "scene": {
           "xaxis": {
            "backgroundcolor": "#E5ECF6",
            "gridcolor": "white",
            "gridwidth": 2,
            "linecolor": "white",
            "showbackground": true,
            "ticks": "",
            "zerolinecolor": "white"
           },
           "yaxis": {
            "backgroundcolor": "#E5ECF6",
            "gridcolor": "white",
            "gridwidth": 2,
            "linecolor": "white",
            "showbackground": true,
            "ticks": "",
            "zerolinecolor": "white"
           },
           "zaxis": {
            "backgroundcolor": "#E5ECF6",
            "gridcolor": "white",
            "gridwidth": 2,
            "linecolor": "white",
            "showbackground": true,
            "ticks": "",
            "zerolinecolor": "white"
           }
          },
          "shapedefaults": {
           "line": {
            "color": "#2a3f5f"
           }
          },
          "ternary": {
           "aaxis": {
            "gridcolor": "white",
            "linecolor": "white",
            "ticks": ""
           },
           "baxis": {
            "gridcolor": "white",
            "linecolor": "white",
            "ticks": ""
           },
           "bgcolor": "#E5ECF6",
           "caxis": {
            "gridcolor": "white",
            "linecolor": "white",
            "ticks": ""
           }
          },
          "title": {
           "x": 0.05
          },
          "xaxis": {
           "automargin": true,
           "gridcolor": "white",
           "linecolor": "white",
           "ticks": "",
           "title": {
            "standoff": 15
           },
           "zerolinecolor": "white",
           "zerolinewidth": 2
          },
          "yaxis": {
           "automargin": true,
           "gridcolor": "white",
           "linecolor": "white",
           "ticks": "",
           "title": {
            "standoff": 15
           },
           "zerolinecolor": "white",
           "zerolinewidth": 2
          }
         }
        }
       }
      }
     },
     "metadata": {},
     "output_type": "display_data"
    }
   ],
   "source": [
    "# Clean up the data\n",
    "\n",
    "merged_covid[\"total_smoking\"] = (merged_covid[\"adult_smoking\"] / 100) * merged_covid[\n",
    "    \"population\"\n",
    "]\n",
    "\n",
    "cols = [\n",
    "    \"Province_State\",\n",
    "    \"population\",\n",
    "    \"total_smoking\",\n",
    "    \"total_counts\",\n",
    "]\n",
    "df_states = merged_covid[cols].groupby(\"Province_State\", as_index=False).sum()\n",
    "\n",
    "# percents\n",
    "df_states[\"percent_smoking\"] = (\n",
    "    df_states[\"total_smoking\"] / df_states[\"population\"] * 100\n",
    ").round(4)\n",
    "df_states[\"percent_covid\"] = (\n",
    "    df_states[\"total_counts\"] / df_states[\"population\"] * 100\n",
    ").round(4)\n",
    "\n",
    "# codes\n",
    "codes = pd.read_json(\"assets/states.json\")\n",
    "code_dict = codes[[\"State\", \"Code\"]].set_index(\"State\").to_dict()[\"Code\"]\n",
    "df_states[\"code\"] = df_states[\"Province_State\"].map(code_dict)\n",
    "\n",
    "fig = make_subplots(\n",
    "    rows=1,\n",
    "    cols=2,\n",
    "    subplot_titles=[\"Percent Covid Cases\", \"Percent Smoking\"],\n",
    "    specs=[[{\"type\": \"choropleth\"}, {\"type\": \"choropleth\"}]],\n",
    ")\n",
    "\n",
    "fig.add_trace(\n",
    "    go.Choropleth(\n",
    "        locations=df_states[\"code\"],\n",
    "        z=df_states[\"percent_covid\"].astype(float),\n",
    "        locationmode=\"USA-states\",\n",
    "        colorscale=\"Blues\",\n",
    "        colorbar=dict(x=0.46),\n",
    "        marker=dict(opacity=0.75, line_width=0.5),\n",
    "    ),\n",
    "    row=1,\n",
    "    col=1,\n",
    ")\n",
    "\n",
    "fig.add_trace(\n",
    "    go.Choropleth(\n",
    "        locations=df_states[\"code\"],\n",
    "        z=df_states[\"percent_smoking\"].astype(float),\n",
    "        locationmode=\"USA-states\",\n",
    "        colorscale=\"Blues\",\n",
    "        colorbar=dict(x=1.02),\n",
    "        marker=dict(opacity=0.75, line_width=0.5),\n",
    "    ),\n",
    "    row=1,\n",
    "    col=2,\n",
    ")\n",
    "\n",
    "fig.update_geos(\n",
    "    scope=\"usa\",  # limite map scope to USA\n",
    ")\n",
    "\n",
    "\n",
    "fig.show()"
   ]
  },
  {
   "cell_type": "markdown",
   "metadata": {},
   "source": [
    "## LSTM model for COVID-19 forecasting\n",
    "\n",
    "We will implement elements of the model explained in the paper: [A spatiotemporal machine learning approach to forecasting\n",
    "COVID-19 incidence at the county level in the United States](https://arxiv.org/pdf/2109.12094.pdf). Unlike the paper we will not be implementing an ensemble but only one model."
   ]
  },
  {
   "cell_type": "code",
   "execution_count": 11,
   "metadata": {},
   "outputs": [],
   "source": [
    "# Import needed functions and set constants\n",
    "import find_best_hyperparameters as fbh\n",
    "\n",
    "STATE = \"Wisconsin\"\n",
    "COUNTY = \"Milwaukee\"\n",
    "BURNIN_WEEKS = 14  # after INITIAL_DATE\n",
    "NUM_BIWEEKLY_INTERVALS = 20  # after the burnin period"
   ]
  },
  {
   "cell_type": "code",
   "execution_count": 12,
   "metadata": {},
   "outputs": [
    {
     "name": "stdout",
     "output_type": "stream",
     "text": [
      "Training for 20 intervals...\n",
      "Training interval 1 for 2020-07-12 with 360 train samples (state)\n",
      "Training interval 1 for 2020-07-12 with 5 train samples (county)\n",
      "Training interval 6 for 2020-09-20 with 1080 train samples (state)\n",
      "Training interval 6 for 2020-09-20 with 15 train samples (county)\n",
      "Training interval 11 for 2020-11-29 with 1800 train samples (state)\n",
      "Training interval 11 for 2020-11-29 with 25 train samples (county)\n",
      "Training interval 16 for 2021-02-07 with 2520 train samples (state)\n",
      "Training interval 16 for 2021-02-07 with 35 train samples (county)\n",
      "Training interval 20 for 2021-04-04 with 3096 train samples (state)\n",
      "Training interval 20 for 2021-04-04 with 43 train samples (county)\n"
     ]
    }
   ],
   "source": [
    "# Run LSTM model and get results\n",
    "err_results_df, final_results_state, final_results_county = fbh.eval_results(\n",
    "    BURNIN_WEEKS,\n",
    "    NUM_BIWEEKLY_INTERVALS,\n",
    "    STATE,\n",
    "    COUNTY,\n",
    "    dc.TEMPORAL_LAG,\n",
    "    dc.FORECAST_HORIZON,\n",
    ")"
   ]
  },
  {
   "cell_type": "code",
   "execution_count": 30,
   "metadata": {},
   "outputs": [
    {
     "data": {
      "text/html": [
       "<div>\n",
       "<style scoped>\n",
       "    .dataframe tbody tr th:only-of-type {\n",
       "        vertical-align: middle;\n",
       "    }\n",
       "\n",
       "    .dataframe tbody tr th {\n",
       "        vertical-align: top;\n",
       "    }\n",
       "\n",
       "    .dataframe thead th {\n",
       "        text-align: right;\n",
       "    }\n",
       "</style>\n",
       "<table border=\"1\" class=\"dataframe\">\n",
       "  <thead>\n",
       "    <tr style=\"text-align: right;\">\n",
       "      <th></th>\n",
       "      <th>GEOID</th>\n",
       "      <th>q_25_pred</th>\n",
       "      <th>q_100_pred</th>\n",
       "      <th>q_250_pred</th>\n",
       "      <th>q_500_pred</th>\n",
       "      <th>q_750_pred</th>\n",
       "      <th>q_900_pred</th>\n",
       "      <th>q_975_pred</th>\n",
       "      <th>q_25_err</th>\n",
       "      <th>q_100_err</th>\n",
       "      <th>...</th>\n",
       "      <th>q_500_pred_cases</th>\n",
       "      <th>q_750_pred_transform</th>\n",
       "      <th>q_750_pred_cases</th>\n",
       "      <th>q_900_pred_transform</th>\n",
       "      <th>q_900_pred_cases</th>\n",
       "      <th>q_975_pred_transform</th>\n",
       "      <th>q_975_pred_cases</th>\n",
       "      <th>y_lbl_transform</th>\n",
       "      <th>y_label_transformed</th>\n",
       "      <th>y_q500_err</th>\n",
       "    </tr>\n",
       "  </thead>\n",
       "  <tbody>\n",
       "    <tr>\n",
       "      <th>0</th>\n",
       "      <td>55001</td>\n",
       "      <td>0.635589</td>\n",
       "      <td>1.002670</td>\n",
       "      <td>1.288619</td>\n",
       "      <td>1.791573</td>\n",
       "      <td>2.114679</td>\n",
       "      <td>2.272347</td>\n",
       "      <td>2.594077</td>\n",
       "      <td>1.198749</td>\n",
       "      <td>0.831668</td>\n",
       "      <td>...</td>\n",
       "      <td>10.044756</td>\n",
       "      <td>7.286922</td>\n",
       "      <td>14.642341</td>\n",
       "      <td>8.702142</td>\n",
       "      <td>17.486085</td>\n",
       "      <td>12.384233</td>\n",
       "      <td>24.884877</td>\n",
       "      <td>5.260988</td>\n",
       "      <td>10.571429</td>\n",
       "      <td>3.955244</td>\n",
       "    </tr>\n",
       "    <tr>\n",
       "      <th>1</th>\n",
       "      <td>55003</td>\n",
       "      <td>-0.078284</td>\n",
       "      <td>0.048682</td>\n",
       "      <td>0.202558</td>\n",
       "      <td>0.476518</td>\n",
       "      <td>0.863776</td>\n",
       "      <td>1.178725</td>\n",
       "      <td>1.442916</td>\n",
       "      <td>1.469239</td>\n",
       "      <td>1.342274</td>\n",
       "      <td>...</td>\n",
       "      <td>0.953350</td>\n",
       "      <td>1.372101</td>\n",
       "      <td>2.142810</td>\n",
       "      <td>2.250227</td>\n",
       "      <td>3.514179</td>\n",
       "      <td>3.233022</td>\n",
       "      <td>5.049010</td>\n",
       "      <td>3.018688</td>\n",
       "      <td>4.714285</td>\n",
       "      <td>2.046650</td>\n",
       "    </tr>\n",
       "    <tr>\n",
       "      <th>2</th>\n",
       "      <td>55005</td>\n",
       "      <td>0.203755</td>\n",
       "      <td>0.447571</td>\n",
       "      <td>0.653695</td>\n",
       "      <td>0.957949</td>\n",
       "      <td>1.307522</td>\n",
       "      <td>1.551007</td>\n",
       "      <td>1.877635</td>\n",
       "      <td>1.395262</td>\n",
       "      <td>1.151445</td>\n",
       "      <td>...</td>\n",
       "      <td>7.265336</td>\n",
       "      <td>2.697001</td>\n",
       "      <td>12.198268</td>\n",
       "      <td>3.716218</td>\n",
       "      <td>16.808084</td>\n",
       "      <td>5.538025</td>\n",
       "      <td>25.047933</td>\n",
       "      <td>3.948162</td>\n",
       "      <td>17.857142</td>\n",
       "      <td>18.734664</td>\n",
       "    </tr>\n",
       "    <tr>\n",
       "      <th>3</th>\n",
       "      <td>55007</td>\n",
       "      <td>-0.086343</td>\n",
       "      <td>0.029824</td>\n",
       "      <td>0.184011</td>\n",
       "      <td>0.468769</td>\n",
       "      <td>0.861608</td>\n",
       "      <td>1.180477</td>\n",
       "      <td>1.432570</td>\n",
       "      <td>1.657311</td>\n",
       "      <td>1.541144</td>\n",
       "      <td>...</td>\n",
       "      <td>0.896619</td>\n",
       "      <td>1.366963</td>\n",
       "      <td>2.049488</td>\n",
       "      <td>2.255926</td>\n",
       "      <td>3.382310</td>\n",
       "      <td>3.189453</td>\n",
       "      <td>4.781946</td>\n",
       "      <td>3.811302</td>\n",
       "      <td>5.714285</td>\n",
       "      <td>6.103381</td>\n",
       "    </tr>\n",
       "    <tr>\n",
       "      <th>4</th>\n",
       "      <td>55009</td>\n",
       "      <td>0.876518</td>\n",
       "      <td>1.399229</td>\n",
       "      <td>1.724225</td>\n",
       "      <td>2.142611</td>\n",
       "      <td>2.422347</td>\n",
       "      <td>2.560186</td>\n",
       "      <td>2.970703</td>\n",
       "      <td>1.445221</td>\n",
       "      <td>0.922510</td>\n",
       "      <td>...</td>\n",
       "      <td>196.592041</td>\n",
       "      <td>10.272285</td>\n",
       "      <td>268.484662</td>\n",
       "      <td>11.938229</td>\n",
       "      <td>312.027093</td>\n",
       "      <td>18.505630</td>\n",
       "      <td>483.677942</td>\n",
       "      <td>9.193387</td>\n",
       "      <td>240.285718</td>\n",
       "      <td>68.407959</td>\n",
       "    </tr>\n",
       "    <tr>\n",
       "      <th>...</th>\n",
       "      <td>...</td>\n",
       "      <td>...</td>\n",
       "      <td>...</td>\n",
       "      <td>...</td>\n",
       "      <td>...</td>\n",
       "      <td>...</td>\n",
       "      <td>...</td>\n",
       "      <td>...</td>\n",
       "      <td>...</td>\n",
       "      <td>...</td>\n",
       "      <td>...</td>\n",
       "      <td>...</td>\n",
       "      <td>...</td>\n",
       "      <td>...</td>\n",
       "      <td>...</td>\n",
       "      <td>...</td>\n",
       "      <td>...</td>\n",
       "      <td>...</td>\n",
       "      <td>...</td>\n",
       "      <td>...</td>\n",
       "      <td>...</td>\n",
       "    </tr>\n",
       "    <tr>\n",
       "      <th>67</th>\n",
       "      <td>55133</td>\n",
       "      <td>0.750825</td>\n",
       "      <td>1.201509</td>\n",
       "      <td>1.508737</td>\n",
       "      <td>1.934113</td>\n",
       "      <td>2.229972</td>\n",
       "      <td>2.376857</td>\n",
       "      <td>2.759756</td>\n",
       "      <td>1.638170</td>\n",
       "      <td>1.187485</td>\n",
       "      <td>...</td>\n",
       "      <td>236.997347</td>\n",
       "      <td>8.299605</td>\n",
       "      <td>332.378416</td>\n",
       "      <td>9.770997</td>\n",
       "      <td>391.303995</td>\n",
       "      <td>14.795986</td>\n",
       "      <td>592.542245</td>\n",
       "      <td>9.902526</td>\n",
       "      <td>396.571406</td>\n",
       "      <td>285.002653</td>\n",
       "    </tr>\n",
       "    <tr>\n",
       "      <th>68</th>\n",
       "      <td>55135</td>\n",
       "      <td>0.753277</td>\n",
       "      <td>1.208219</td>\n",
       "      <td>1.513595</td>\n",
       "      <td>1.934927</td>\n",
       "      <td>2.232889</td>\n",
       "      <td>2.381529</td>\n",
       "      <td>2.769037</td>\n",
       "      <td>1.489445</td>\n",
       "      <td>1.034503</td>\n",
       "      <td>...</td>\n",
       "      <td>30.355177</td>\n",
       "      <td>8.326774</td>\n",
       "      <td>42.670553</td>\n",
       "      <td>9.821432</td>\n",
       "      <td>50.329928</td>\n",
       "      <td>14.943266</td>\n",
       "      <td>76.576765</td>\n",
       "      <td>8.418940</td>\n",
       "      <td>43.142856</td>\n",
       "      <td>12.644823</td>\n",
       "    </tr>\n",
       "    <tr>\n",
       "      <th>69</th>\n",
       "      <td>55137</td>\n",
       "      <td>0.544115</td>\n",
       "      <td>0.897831</td>\n",
       "      <td>1.168038</td>\n",
       "      <td>1.583086</td>\n",
       "      <td>1.904514</td>\n",
       "      <td>2.080289</td>\n",
       "      <td>2.422602</td>\n",
       "      <td>1.158398</td>\n",
       "      <td>0.804682</td>\n",
       "      <td>...</td>\n",
       "      <td>9.362602</td>\n",
       "      <td>5.716145</td>\n",
       "      <td>13.829069</td>\n",
       "      <td>7.006782</td>\n",
       "      <td>16.951507</td>\n",
       "      <td>10.275158</td>\n",
       "      <td>24.858691</td>\n",
       "      <td>4.487720</td>\n",
       "      <td>10.857142</td>\n",
       "      <td>1.362602</td>\n",
       "    </tr>\n",
       "    <tr>\n",
       "      <th>70</th>\n",
       "      <td>55139</td>\n",
       "      <td>0.692932</td>\n",
       "      <td>1.154079</td>\n",
       "      <td>1.449917</td>\n",
       "      <td>1.768027</td>\n",
       "      <td>2.063005</td>\n",
       "      <td>2.233786</td>\n",
       "      <td>2.654485</td>\n",
       "      <td>0.892494</td>\n",
       "      <td>0.431348</td>\n",
       "      <td>...</td>\n",
       "      <td>82.807474</td>\n",
       "      <td>6.869584</td>\n",
       "      <td>117.065269</td>\n",
       "      <td>8.335141</td>\n",
       "      <td>142.039969</td>\n",
       "      <td>13.217669</td>\n",
       "      <td>225.243614</td>\n",
       "      <td>3.881372</td>\n",
       "      <td>66.142856</td>\n",
       "      <td>9.807474</td>\n",
       "    </tr>\n",
       "    <tr>\n",
       "      <th>71</th>\n",
       "      <td>55141</td>\n",
       "      <td>0.549083</td>\n",
       "      <td>0.890506</td>\n",
       "      <td>1.161211</td>\n",
       "      <td>1.616759</td>\n",
       "      <td>1.944297</td>\n",
       "      <td>2.118021</td>\n",
       "      <td>2.441466</td>\n",
       "      <td>0.853995</td>\n",
       "      <td>0.512572</td>\n",
       "      <td>...</td>\n",
       "      <td>29.513396</td>\n",
       "      <td>5.988717</td>\n",
       "      <td>43.784706</td>\n",
       "      <td>7.314663</td>\n",
       "      <td>53.478961</td>\n",
       "      <td>10.489874</td>\n",
       "      <td>76.693564</td>\n",
       "      <td>3.067700</td>\n",
       "      <td>22.428571</td>\n",
       "      <td>4.513396</td>\n",
       "    </tr>\n",
       "  </tbody>\n",
       "</table>\n",
       "<p>72 rows × 34 columns</p>\n",
       "</div>"
      ],
      "text/plain": [
       "    GEOID  q_25_pred  q_100_pred  q_250_pred  q_500_pred  q_750_pred  \\\n",
       "0   55001   0.635589    1.002670    1.288619    1.791573    2.114679   \n",
       "1   55003  -0.078284    0.048682    0.202558    0.476518    0.863776   \n",
       "2   55005   0.203755    0.447571    0.653695    0.957949    1.307522   \n",
       "3   55007  -0.086343    0.029824    0.184011    0.468769    0.861608   \n",
       "4   55009   0.876518    1.399229    1.724225    2.142611    2.422347   \n",
       "..    ...        ...         ...         ...         ...         ...   \n",
       "67  55133   0.750825    1.201509    1.508737    1.934113    2.229972   \n",
       "68  55135   0.753277    1.208219    1.513595    1.934927    2.232889   \n",
       "69  55137   0.544115    0.897831    1.168038    1.583086    1.904514   \n",
       "70  55139   0.692932    1.154079    1.449917    1.768027    2.063005   \n",
       "71  55141   0.549083    0.890506    1.161211    1.616759    1.944297   \n",
       "\n",
       "    q_900_pred  q_975_pred  q_25_err  q_100_err  ...  q_500_pred_cases  \\\n",
       "0     2.272347    2.594077  1.198749   0.831668  ...         10.044756   \n",
       "1     1.178725    1.442916  1.469239   1.342274  ...          0.953350   \n",
       "2     1.551007    1.877635  1.395262   1.151445  ...          7.265336   \n",
       "3     1.180477    1.432570  1.657311   1.541144  ...          0.896619   \n",
       "4     2.560186    2.970703  1.445221   0.922510  ...        196.592041   \n",
       "..         ...         ...       ...        ...  ...               ...   \n",
       "67    2.376857    2.759756  1.638170   1.187485  ...        236.997347   \n",
       "68    2.381529    2.769037  1.489445   1.034503  ...         30.355177   \n",
       "69    2.080289    2.422602  1.158398   0.804682  ...          9.362602   \n",
       "70    2.233786    2.654485  0.892494   0.431348  ...         82.807474   \n",
       "71    2.118021    2.441466  0.853995   0.512572  ...         29.513396   \n",
       "\n",
       "    q_750_pred_transform  q_750_pred_cases  q_900_pred_transform  \\\n",
       "0               7.286922         14.642341              8.702142   \n",
       "1               1.372101          2.142810              2.250227   \n",
       "2               2.697001         12.198268              3.716218   \n",
       "3               1.366963          2.049488              2.255926   \n",
       "4              10.272285        268.484662             11.938229   \n",
       "..                   ...               ...                   ...   \n",
       "67              8.299605        332.378416              9.770997   \n",
       "68              8.326774         42.670553              9.821432   \n",
       "69              5.716145         13.829069              7.006782   \n",
       "70              6.869584        117.065269              8.335141   \n",
       "71              5.988717         43.784706              7.314663   \n",
       "\n",
       "    q_900_pred_cases  q_975_pred_transform  q_975_pred_cases  y_lbl_transform  \\\n",
       "0          17.486085             12.384233         24.884877         5.260988   \n",
       "1           3.514179              3.233022          5.049010         3.018688   \n",
       "2          16.808084              5.538025         25.047933         3.948162   \n",
       "3           3.382310              3.189453          4.781946         3.811302   \n",
       "4         312.027093             18.505630        483.677942         9.193387   \n",
       "..               ...                   ...               ...              ...   \n",
       "67        391.303995             14.795986        592.542245         9.902526   \n",
       "68         50.329928             14.943266         76.576765         8.418940   \n",
       "69         16.951507             10.275158         24.858691         4.487720   \n",
       "70        142.039969             13.217669        225.243614         3.881372   \n",
       "71         53.478961             10.489874         76.693564         3.067700   \n",
       "\n",
       "    y_label_transformed  y_q500_err  \n",
       "0             10.571429    3.955244  \n",
       "1              4.714285    2.046650  \n",
       "2             17.857142   18.734664  \n",
       "3              5.714285    6.103381  \n",
       "4            240.285718   68.407959  \n",
       "..                  ...         ...  \n",
       "67           396.571406  285.002653  \n",
       "68            43.142856   12.644823  \n",
       "69            10.857142    1.362602  \n",
       "70            66.142856    9.807474  \n",
       "71            22.428571    4.513396  \n",
       "\n",
       "[72 rows x 34 columns]"
      ]
     },
     "execution_count": 30,
     "metadata": {},
     "output_type": "execute_result"
    }
   ],
   "source": [
    "dates = err_results_df[\"forecast_dates\"].to_list()  # Grab dates for later\n",
    "final_results_state[0]  # View final results (quantile predictions) for 1 interval"
   ]
  },
  {
   "cell_type": "code",
   "execution_count": 27,
   "metadata": {},
   "outputs": [],
   "source": [
    "# Final reults for a state\n",
    "\n",
    "preds_new_cases = []\n",
    "actual_new_cases = []\n",
    "pred_25 = []\n",
    "pred_975 = []\n",
    "state_GEOID = 55079  # Milwaukee County, Winsconsin\n",
    "\n",
    "for i in range(len(final_results_state)):\n",
    "    df = final_results_state[i]\n",
    "    preds_new_cases.append(df[df[\"GEOID\"] == state_GEOID][\"q_500_pred_cases\"].values[0])\n",
    "    pred_25.append(\n",
    "        df[df[\"GEOID\"] == state_GEOID][\"q_25_pred_cases\"].values[0]\n",
    "    )  # Lower quantile (2.5th quantile)\n",
    "    pred_975.append(\n",
    "        df[df[\"GEOID\"] == state_GEOID][\"q_975_pred_cases\"].values[0]\n",
    "    )  # Upper quantile (97.5th quantile)\n",
    "    actual_new_cases.append(df[df[\"GEOID\"] == state_GEOID][\"y_delta_cases\"].values[0])"
   ]
  },
  {
   "cell_type": "code",
   "execution_count": 33,
   "metadata": {},
   "outputs": [
    {
     "data": {
      "image/png": "[encoded data removed]",
      "text/plain": [
       "<Figure size 1000x600 with 1 Axes>"
      ]
     },
     "metadata": {},
     "output_type": "display_data"
    }
   ],
   "source": [
    "# Plot showing the predicted (50th quantile), actual number of cases, and the range\n",
    "# between the 2.5th quantile and the 97.5th quantile for the county with data from the state level LSTM model.\n",
    "\n",
    "import matplotlib.pyplot as plt\n",
    "\n",
    "# YOUR CODE HERE\n",
    "plt.figure(figsize=(10, 6))\n",
    "\n",
    "plt.plot(\n",
    "    dates,\n",
    "    preds_new_cases,\n",
    "    color=\"#1b9e77\",\n",
    "    marker=\"+\",\n",
    "    linestyle=\"dashed\",\n",
    "    label=\"Predicted new cases (Wisconsin - LSTM)\",\n",
    ")\n",
    "\n",
    "plt.fill_between(dates, pred_25, pred_975, color=\"lightblue\")\n",
    "\n",
    "plt.plot(\n",
    "    dates,\n",
    "    actual_new_cases,\n",
    "    color=\"#66a61e\",\n",
    "    marker=\"o\",\n",
    "    # linestyle = 'dashed',\n",
    "    label=\"Actual new cases\",\n",
    ")\n",
    "\n",
    "plt.xticks(rotation=45)\n",
    "plt.gca().spines[\"right\"].set_visible(False)\n",
    "plt.gca().spines[\"top\"].set_visible(False)\n",
    "plt.title(\"Comparison of LSTM Predicted and Actual New COVID-19 Cases\")\n",
    "plt.legend()\n",
    "\n",
    "plt.show()"
   ]
  },
  {
   "cell_type": "markdown",
   "metadata": {},
   "source": [
    "The prediction intereval is widest around November 2020."
   ]
  },
  {
   "cell_type": "markdown",
   "metadata": {},
   "source": []
  }
 ],
 "metadata": {
  "kernelspec": {
   "display_name": "health_analytics",
   "language": "python",
   "name": "python3"
  },
  "language_info": {
   "codemirror_mode": {
    "name": "ipython",
    "version": 3
   },
   "file_extension": ".py",
   "mimetype": "text/x-python",
   "name": "python",
   "nbconvert_exporter": "python",
   "pygments_lexer": "ipython3",
   "version": "3.12.1"
  }
 },
 "nbformat": 4,
 "nbformat_minor": 2
}
